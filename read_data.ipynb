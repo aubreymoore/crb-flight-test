{
 "cells": [
  {
   "cell_type": "markdown",
   "id": "fcee840e-2824-435c-b1da-8f8f68b037ad",
   "metadata": {},
   "source": [
    "### Data Dictionary\n",
    "\n",
    "**Beetles table**\n",
    "* ID: beetle ID (unique integer)\n",
    "* Group: flight test group (A, B, C, D)\n",
    "* Sex: M, F\n",
    "* date_treated\n",
    "* date_dead\n",
    "* OrNV detected: t, f\n",
    "* Notes\n",
    "\n",
    "**Observations table**\n",
    "\n",
    "This table is not in standard format. It is a matrix with 'ID' as the first column.\n",
    "The remaining columns labeled '2023/02/28', '2023/03/01', ... contain observation codes for each beetle.\n",
    "The dates indicate when the observation was made. \n",
    "For example, an F in column 2023/02/28 indicates that this beetle flew during the previous night ( 2023-02-27 19:00 to 2023-02-28 07:00. \n",
    "\n",
    "* F: beetle flew (collected from bottom of chamber)\n",
    "* N: beetle did not fly (collected from paint bucket)\n",
    "* D: dead\n",
    "* M: missing"
   ]
  },
  {
   "cell_type": "code",
   "execution_count": 31,
   "id": "075e45c2-0781-4d7d-95af-b68b4f4ef73b",
   "metadata": {},
   "outputs": [],
   "source": [
    "import pandas as pd\n",
    "import plotly.express as px"
   ]
  },
  {
   "cell_type": "markdown",
   "id": "b3a60620-f2df-479c-9c02-a622e2433ce7",
   "metadata": {},
   "source": [
    "# GET DATA"
   ]
  },
  {
   "cell_type": "code",
   "execution_count": null,
   "id": "9f58f78f-56a6-4301-824a-772cced94289",
   "metadata": {},
   "outputs": [],
   "source": [
    "SHEET_ID = '1jwgm7h_-Al4MspsfC4sP6E03QrjpZcTPr2JC7WLU2QM'"
   ]
  },
  {
   "cell_type": "code",
   "execution_count": null,
   "id": "a4857068-9dc7-4c44-85f3-587d0b134f94",
   "metadata": {},
   "outputs": [],
   "source": [
    "def get_google_sheet(sheet_id, sheet_name):\n",
    "    \"\"\"\n",
    "    Returns a data frame generated from a Google sheet\n",
    "    \"\"\"\n",
    "    url = f'https://docs.google.com/spreadsheets/d/{sheet_id}/gviz/tq?tqx=out:csv&sheet={sheet_name}'\n",
    "    return pd.read_csv(url)\n",
    "\n",
    "# SHEET_ID = '1jwgm7h_-Al4MspsfC4sP6E03QrjpZcTPr2JC7WLU2QM'\n",
    "# get_google_sheet(SHEET_ID, 'Beetles')"
   ]
  },
  {
   "cell_type": "code",
   "execution_count": null,
   "id": "4a72c156-f8e5-4f5b-be2e-d25d06e5bf28",
   "metadata": {},
   "outputs": [],
   "source": [
    "# get mass table\n",
    "\n",
    "# try:\n",
    "\n",
    "df_mass = get_google_sheet(SHEET_ID, 'Mass')\n",
    "df_mass = pd.melt(df_mass, id_vars=['Unnamed: 0'], var_name='date', value_name='milligrams')\n",
    "df_mass.rename({'Unnamed: 0':'ID'}, axis='columns', inplace=True)\n",
    "df_mass.dropna(inplace=True)    \n",
    "# save to disk\n",
    "df_mass.to_csv('mass.csv', index=False)\n",
    "print('Mass sheet downloaded and saved to mass.csv')\n",
    "\n",
    "# except Exception as e: \n",
    "#     print(e)\n",
    "#     print('WARNING: Failed to get beetles table from Google sheets; Reading csv file from disk')\n",
    "#     df_beetles = pd.read_csv('mass.csv')\n",
    "df_mass"
   ]
  },
  {
   "cell_type": "code",
   "execution_count": null,
   "id": "915545b1-7f77-4a76-8d4a-189708b32710",
   "metadata": {
    "tags": []
   },
   "outputs": [],
   "source": [
    "# get 'beetles' table\n",
    "\n",
    "# try:\n",
    "\n",
    "df_beetles = get_google_sheet(SHEET_ID, 'Beetles')    \n",
    "# remove columns after 'Notes'\n",
    "df_beetles = df_beetles.loc[:,:'Notes']\n",
    "# Convert dates from string to datetime\n",
    "df_beetles['date treated'] = pd.to_datetime(df_beetles['date treated'], format='%Y/%m/%d')\n",
    "df_beetles['date dead'] = pd.to_datetime(df_beetles['date dead'], format='%Y/%m/%d')\n",
    "# save to disk\n",
    "df_beetles.to_csv('beetles.csv', index=False)\n",
    "print('Beetles sheet downloaded and saved to beetles.csv')\n",
    "    \n",
    "# except Exception as e: \n",
    "#     print(e)\n",
    "#     print('WARNING: Failed to get beetles table from Google sheets; Reading csv file from disk')\n",
    "#     df_beetles = pd.read_csv('beetles.csv')\n",
    "df_beetles"
   ]
  },
  {
   "cell_type": "code",
   "execution_count": null,
   "id": "fcbcfe2a-eaf5-4e50-ae6e-23e083751a2a",
   "metadata": {},
   "outputs": [],
   "source": [
    "# get observations table\n",
    "\n",
    "# try:\n",
    "\n",
    "df_observations = get_google_sheet(SHEET_ID, 'Observations')\n",
    "# No idea why the first column is unnamed, but this fixes the problem\n",
    "df_observations.rename(columns={'Unnamed: 0':'ID'}, inplace=True)\n",
    "# Drop all columns which do not contain data\n",
    "df_observations.dropna(axis='columns', how='all', inplace=True)\n",
    "# Convert the table into a more standard format\n",
    "df_observations = df_observations.melt(id_vars='ID')\n",
    "# Rename\n",
    "df_observations.rename(columns={'variable':'date', 'value':'obs'}, inplace=True)\n",
    "# Convert date from string to datetime\n",
    "df_observations['date'] = pd.to_datetime(df_observations['date'], format='%Y/%m/%d')    \n",
    "df_observations.to_csv('observations.csv', index=False)\n",
    "print('Observations sheet downloaded and saved to observations.csv')\n",
    "    \n",
    "# except Exception as e: \n",
    "#     print(e)\n",
    "#     print('WARNING: Failed to get observations sheet from Google sheets; Reading csv file from disk')\n",
    "#     df_observations = pd.read_csv('observations.csv')\n",
    "df_observations"
   ]
  },
  {
   "cell_type": "code",
   "execution_count": null,
   "id": "d920b01c-6fc3-4715-94b0-2ea43d80a3d1",
   "metadata": {},
   "outputs": [],
   "source": [
    "df_observations.obs.unique()"
   ]
  },
  {
   "cell_type": "code",
   "execution_count": null,
   "id": "fbe0bde1-eae9-4c85-9be3-0abe773ca6f5",
   "metadata": {},
   "outputs": [],
   "source": [
    "# Merge tables using ID as key\n",
    "\n",
    "df_merged = df_beetles.merge(df_observations)\n",
    "\n",
    "# Drop all columns which do not contain data\n",
    "df_merged.dropna(axis='columns', how='all', inplace=True)\n",
    "\n",
    "# Select the rows we are interested in\n",
    "# df_merged = df_merged.query('obs.str.contains(\"F\") | obs.str.contains(\"N\")')\n",
    "\n",
    "df_merged"
   ]
  },
  {
   "cell_type": "code",
   "execution_count": null,
   "id": "2f9bb933-48f8-4749-b346-74cab607a67e",
   "metadata": {},
   "outputs": [],
   "source": [
    "# Select rows where obs contains 'F' (flew) or 'N' (did not fly)\n",
    "df_merged = df_merged.query(\"obs.str.contains('F') | obs.str.contains('N')\")\n",
    "\n",
    "# Create a new column 'flew'\n",
    "df_merged['flew'] = df_merged.obs.str.contains('F')\n",
    "\n",
    "df_merged"
   ]
  },
  {
   "cell_type": "code",
   "execution_count": null,
   "id": "14d3d6b5-d8fa-4b3a-81e4-4cef204784d5",
   "metadata": {},
   "outputs": [],
   "source": [
    "# Create a new dataframe containing only the columns we need\n",
    "\n",
    "df = df_merged[['Group','date','flew']]\n",
    "df"
   ]
  },
  {
   "cell_type": "code",
   "execution_count": null,
   "id": "f5983712-f2a8-4604-96b8-0f5d2b1d1c2c",
   "metadata": {},
   "outputs": [],
   "source": [
    "def proportion_flew(df):\n",
    "    \"\"\" returns proportion of beetles which flew \"\"\"\n",
    "    return df.flew.sum() / df.flew.count()\n",
    "\n",
    "# proportion_flew(df)"
   ]
  },
  {
   "cell_type": "code",
   "execution_count": null,
   "id": "75bec3bb-12e2-419f-b3b1-247a41777cf6",
   "metadata": {},
   "outputs": [],
   "source": [
    "# calculate proportion of beetles which flew for each 'Group' and 'date'\n",
    "gb = df.groupby(['Group','date']).apply(proportion_flew)\n",
    "gb"
   ]
  },
  {
   "cell_type": "markdown",
   "id": "6fca2c58-1e06-4af1-be7a-add5d7a889c4",
   "metadata": {
    "tags": []
   },
   "source": [
    "# PLOT"
   ]
  },
  {
   "cell_type": "code",
   "execution_count": null,
   "id": "e5e88cbb-2f1f-410c-aae6-4d7c98301e26",
   "metadata": {},
   "outputs": [],
   "source": [
    "df = gb.reset_index().rename(columns={0:'proportion_flew'})\n",
    "fig = px.bar(df, x='date', y='proportion_flew', facet_row='Group', color='Group', color_discrete_sequence=['green','green','red','red'])\n",
    "\n",
    "fig.update_layout(showlegend=False, width=1000, height=1000)\n",
    "\n",
    "fig.add_vline(x=pd.to_datetime('2023-03-05 08').timestamp()*1000, line_dash=\"dot\", row=1, col=1, annotation_text=\"food<br>+virus\", annotation_position=\"top right\")\n",
    "fig.add_vline(x=pd.to_datetime('2023-03-05 08').timestamp()*1000, line_dash=\"dot\", row=2, col=1, annotation_text=\"food<br>+virus\", annotation_position=\"top right\")\n",
    "fig.add_vline(x=pd.to_datetime('2023-03-04 08').timestamp()*1000, line_dash=\"dot\", row=3, col=1, annotation_text=\"food\", annotation_position=\"top right\")\n",
    "fig.add_vline(x=pd.to_datetime('2023-03-03 08').timestamp()*1000, line_dash=\"dot\", row=4, col=1, annotation_text=\"food\", annotation_position=\"top right\")\n",
    "\n",
    "fig.add_vline(x=pd.to_datetime('2023-03-13 08').timestamp()*1000, line_dash=\"dot\", row=\"all\", col=1, annotation_text=\"food\", annotation_position=\"top right\")\n",
    "fig.add_vline(x=pd.to_datetime('2023-03-21 08').timestamp()*1000, line_dash=\"dot\", row=\"all\", col=1, annotation_text=\"food\", annotation_position=\"top right\")\n",
    "fig.add_vline(x=pd.to_datetime('2023-04-04 08').timestamp()*1000, line_dash=\"dot\", row=\"all\", col=1, annotation_text=\"food\", annotation_position=\"top right\")\n",
    "   \n",
    "fig.write_html(\"results-plot.html\")\n",
    "fig.write_image(\"results-plot.png\")\n",
    "\n",
    "fig.show()"
   ]
  },
  {
   "cell_type": "code",
   "execution_count": null,
   "id": "509c4db3-6cfc-4285-b0c4-c24f48d043bc",
   "metadata": {},
   "outputs": [],
   "source": []
  }
 ],
 "metadata": {
  "kernelspec": {
   "display_name": "Python 3 (ipykernel)",
   "language": "python",
   "name": "python3"
  },
  "language_info": {
   "codemirror_mode": {
    "name": "ipython",
    "version": 3
   },
   "file_extension": ".py",
   "mimetype": "text/x-python",
   "name": "python",
   "nbconvert_exporter": "python",
   "pygments_lexer": "ipython3",
   "version": "3.9.5"
  }
 },
 "nbformat": 4,
 "nbformat_minor": 5
}
