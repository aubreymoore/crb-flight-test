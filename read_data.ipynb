{
 "cells": [
  {
   "cell_type": "markdown",
   "id": "fcee840e-2824-435c-b1da-8f8f68b037ad",
   "metadata": {},
   "source": [
    "### Data Dictionary\n",
    "\n",
    "**Beetles table**\n",
    "* ID: beetle ID (unique integer)\n",
    "* Group: flight test group (A, B, C, D)\n",
    "* Sex: M, F\n",
    "* date_treated\n",
    "* date_dead\n",
    "* OrNV detected: t, f\n",
    "* Notes\n",
    "\n",
    "**Observations table**\n",
    "\n",
    "This table is not in standard format. It is a matrix with 'ID' as the first column.\n",
    "The remaining columns labeled '2023/02/28', '2023/03/01', ... contain observation codes for each beetle.\n",
    "The dates indicate when the observation was made. \n",
    "For example, an F in column 2023/02/28 indicates that this beetle flew during the previous night ( 2023-02-27 19:00 to 2023-02-28 07:00. \n",
    "\n",
    "* F: beetle flew (collected from bottom of chamber)\n",
    "* N: beetle did not fly (collected from paint bucket)\n",
    "* D: dead\n",
    "* M: missing"
   ]
  },
  {
   "cell_type": "code",
   "execution_count": 25,
   "id": "075e45c2-0781-4d7d-95af-b68b4f4ef73b",
   "metadata": {},
   "outputs": [],
   "source": [
    "import pandas as pd\n",
    "import plotly.express as px"
   ]
  },
  {
   "cell_type": "markdown",
   "id": "b3a60620-f2df-479c-9c02-a622e2433ce7",
   "metadata": {},
   "source": [
    "# GET DATA"
   ]
  },
  {
   "cell_type": "code",
   "execution_count": 26,
   "id": "9f58f78f-56a6-4301-824a-772cced94289",
   "metadata": {},
   "outputs": [],
   "source": [
    "SHEET_ID = '1jwgm7h_-Al4MspsfC4sP6E03QrjpZcTPr2JC7WLU2QM'"
   ]
  },
  {
   "cell_type": "code",
   "execution_count": 27,
   "id": "a4857068-9dc7-4c44-85f3-587d0b134f94",
   "metadata": {},
   "outputs": [],
   "source": [
    "def get_google_sheet(sheet_id, sheet_name):\n",
    "    \"\"\"\n",
    "    Returns a data frame generated from a Google sheet\n",
    "    \"\"\"\n",
    "    url = f'https://docs.google.com/spreadsheets/d/{sheet_id}/gviz/tq?tqx=out:csv&sheet={sheet_name}'\n",
    "    return pd.read_csv(url)\n",
    "\n",
    "# SHEET_ID = '1jwgm7h_-Al4MspsfC4sP6E03QrjpZcTPr2JC7WLU2QM'\n",
    "# get_google_sheet(SHEET_ID, 'Beetles')"
   ]
  },
  {
   "cell_type": "code",
   "execution_count": 28,
   "id": "07377e8e-1b0e-4e2e-870f-0a3525ff43e2",
   "metadata": {
    "tags": []
   },
   "outputs": [
    {
     "data": {
      "text/html": [
       "<div>\n",
       "<style scoped>\n",
       "    .dataframe tbody tr th:only-of-type {\n",
       "        vertical-align: middle;\n",
       "    }\n",
       "\n",
       "    .dataframe tbody tr th {\n",
       "        vertical-align: top;\n",
       "    }\n",
       "\n",
       "    .dataframe thead th {\n",
       "        text-align: right;\n",
       "    }\n",
       "</style>\n",
       "<table border=\"1\" class=\"dataframe\">\n",
       "  <thead>\n",
       "    <tr style=\"text-align: right;\">\n",
       "      <th></th>\n",
       "      <th>ID</th>\n",
       "      <th>Group</th>\n",
       "      <th>Sex</th>\n",
       "      <th>date treated</th>\n",
       "      <th>date dead</th>\n",
       "      <th>OrNV detected</th>\n",
       "      <th>Notes</th>\n",
       "    </tr>\n",
       "  </thead>\n",
       "  <tbody>\n",
       "    <tr>\n",
       "      <th>0</th>\n",
       "      <td>1</td>\n",
       "      <td>A</td>\n",
       "      <td>NaN</td>\n",
       "      <td>1970-01-01 00:00:00.000028022</td>\n",
       "      <td>NaT</td>\n",
       "      <td>NaN</td>\n",
       "      <td>NaN</td>\n",
       "    </tr>\n",
       "    <tr>\n",
       "      <th>1</th>\n",
       "      <td>2</td>\n",
       "      <td>A</td>\n",
       "      <td>NaN</td>\n",
       "      <td>NaT</td>\n",
       "      <td>NaT</td>\n",
       "      <td>NaN</td>\n",
       "      <td>NaN</td>\n",
       "    </tr>\n",
       "    <tr>\n",
       "      <th>2</th>\n",
       "      <td>3</td>\n",
       "      <td>A</td>\n",
       "      <td>NaN</td>\n",
       "      <td>NaT</td>\n",
       "      <td>NaT</td>\n",
       "      <td>NaN</td>\n",
       "      <td>NaN</td>\n",
       "    </tr>\n",
       "    <tr>\n",
       "      <th>3</th>\n",
       "      <td>4</td>\n",
       "      <td>A</td>\n",
       "      <td>NaN</td>\n",
       "      <td>NaT</td>\n",
       "      <td>NaT</td>\n",
       "      <td>NaN</td>\n",
       "      <td>NaN</td>\n",
       "    </tr>\n",
       "    <tr>\n",
       "      <th>4</th>\n",
       "      <td>5</td>\n",
       "      <td>A</td>\n",
       "      <td>NaN</td>\n",
       "      <td>NaT</td>\n",
       "      <td>NaT</td>\n",
       "      <td>NaN</td>\n",
       "      <td>NaN</td>\n",
       "    </tr>\n",
       "    <tr>\n",
       "      <th>...</th>\n",
       "      <td>...</td>\n",
       "      <td>...</td>\n",
       "      <td>...</td>\n",
       "      <td>...</td>\n",
       "      <td>...</td>\n",
       "      <td>...</td>\n",
       "      <td>...</td>\n",
       "    </tr>\n",
       "    <tr>\n",
       "      <th>110</th>\n",
       "      <td>111</td>\n",
       "      <td>D</td>\n",
       "      <td>NaN</td>\n",
       "      <td>NaT</td>\n",
       "      <td>NaT</td>\n",
       "      <td>NaN</td>\n",
       "      <td>NaN</td>\n",
       "    </tr>\n",
       "    <tr>\n",
       "      <th>111</th>\n",
       "      <td>112</td>\n",
       "      <td>D</td>\n",
       "      <td>NaN</td>\n",
       "      <td>NaT</td>\n",
       "      <td>NaT</td>\n",
       "      <td>NaN</td>\n",
       "      <td>NaN</td>\n",
       "    </tr>\n",
       "    <tr>\n",
       "      <th>112</th>\n",
       "      <td>113</td>\n",
       "      <td>D</td>\n",
       "      <td>NaN</td>\n",
       "      <td>NaT</td>\n",
       "      <td>NaT</td>\n",
       "      <td>NaN</td>\n",
       "      <td>NaN</td>\n",
       "    </tr>\n",
       "    <tr>\n",
       "      <th>113</th>\n",
       "      <td>114</td>\n",
       "      <td>D</td>\n",
       "      <td>NaN</td>\n",
       "      <td>NaT</td>\n",
       "      <td>NaT</td>\n",
       "      <td>NaN</td>\n",
       "      <td>NaN</td>\n",
       "    </tr>\n",
       "    <tr>\n",
       "      <th>114</th>\n",
       "      <td>115</td>\n",
       "      <td>D</td>\n",
       "      <td>NaN</td>\n",
       "      <td>NaT</td>\n",
       "      <td>NaT</td>\n",
       "      <td>NaN</td>\n",
       "      <td>NaN</td>\n",
       "    </tr>\n",
       "  </tbody>\n",
       "</table>\n",
       "<p>115 rows × 7 columns</p>\n",
       "</div>"
      ],
      "text/plain": [
       "      ID Group  Sex                  date treated date dead  OrNV detected  \\\n",
       "0      1     A  NaN 1970-01-01 00:00:00.000028022       NaT            NaN   \n",
       "1      2     A  NaN                           NaT       NaT            NaN   \n",
       "2      3     A  NaN                           NaT       NaT            NaN   \n",
       "3      4     A  NaN                           NaT       NaT            NaN   \n",
       "4      5     A  NaN                           NaT       NaT            NaN   \n",
       "..   ...   ...  ...                           ...       ...            ...   \n",
       "110  111     D  NaN                           NaT       NaT            NaN   \n",
       "111  112     D  NaN                           NaT       NaT            NaN   \n",
       "112  113     D  NaN                           NaT       NaT            NaN   \n",
       "113  114     D  NaN                           NaT       NaT            NaN   \n",
       "114  115     D  NaN                           NaT       NaT            NaN   \n",
       "\n",
       "    Notes  \n",
       "0     NaN  \n",
       "1     NaN  \n",
       "2     NaN  \n",
       "3     NaN  \n",
       "4     NaN  \n",
       "..    ...  \n",
       "110   NaN  \n",
       "111   NaN  \n",
       "112   NaN  \n",
       "113   NaN  \n",
       "114   NaN  \n",
       "\n",
       "[115 rows x 7 columns]"
      ]
     },
     "execution_count": 28,
     "metadata": {},
     "output_type": "execute_result"
    }
   ],
   "source": [
    "# get 'beetles' table\n",
    "\n",
    "df_beetles = get_google_sheet(SHEET_ID, 'Beetles')\n",
    "\n",
    "# remove columns after 'Notes'\n",
    "df_beetles = df_beetles.loc[:,:'Notes']\n",
    "\n",
    "# Convert dates from string to datetime\n",
    "df_beetles['date treated'] = pd.to_datetime(df_beetles['date treated'], format='%Y/%m/%d')\n",
    "df_beetles['date dead'] = pd.to_datetime(df_beetles['date dead'], format='%Y/%m/%d')\n",
    "\n",
    "df_beetles"
   ]
  },
  {
   "cell_type": "code",
   "execution_count": 29,
   "id": "642fb226-2252-4d0b-b2f3-8fb060d54b20",
   "metadata": {},
   "outputs": [
    {
     "data": {
      "text/html": [
       "<div>\n",
       "<style scoped>\n",
       "    .dataframe tbody tr th:only-of-type {\n",
       "        vertical-align: middle;\n",
       "    }\n",
       "\n",
       "    .dataframe tbody tr th {\n",
       "        vertical-align: top;\n",
       "    }\n",
       "\n",
       "    .dataframe thead th {\n",
       "        text-align: right;\n",
       "    }\n",
       "</style>\n",
       "<table border=\"1\" class=\"dataframe\">\n",
       "  <thead>\n",
       "    <tr style=\"text-align: right;\">\n",
       "      <th></th>\n",
       "      <th>ID</th>\n",
       "      <th>date</th>\n",
       "      <th>obs</th>\n",
       "    </tr>\n",
       "  </thead>\n",
       "  <tbody>\n",
       "    <tr>\n",
       "      <th>0</th>\n",
       "      <td>1</td>\n",
       "      <td>2023-02-28</td>\n",
       "      <td>N</td>\n",
       "    </tr>\n",
       "    <tr>\n",
       "      <th>1</th>\n",
       "      <td>2</td>\n",
       "      <td>2023-02-28</td>\n",
       "      <td>N</td>\n",
       "    </tr>\n",
       "    <tr>\n",
       "      <th>2</th>\n",
       "      <td>3</td>\n",
       "      <td>2023-02-28</td>\n",
       "      <td>N</td>\n",
       "    </tr>\n",
       "    <tr>\n",
       "      <th>3</th>\n",
       "      <td>4</td>\n",
       "      <td>2023-02-28</td>\n",
       "      <td>N</td>\n",
       "    </tr>\n",
       "    <tr>\n",
       "      <th>4</th>\n",
       "      <td>5</td>\n",
       "      <td>2023-02-28</td>\n",
       "      <td>N</td>\n",
       "    </tr>\n",
       "    <tr>\n",
       "      <th>...</th>\n",
       "      <td>...</td>\n",
       "      <td>...</td>\n",
       "      <td>...</td>\n",
       "    </tr>\n",
       "    <tr>\n",
       "      <th>2640</th>\n",
       "      <td>111</td>\n",
       "      <td>2023-03-22</td>\n",
       "      <td>NaN</td>\n",
       "    </tr>\n",
       "    <tr>\n",
       "      <th>2641</th>\n",
       "      <td>112</td>\n",
       "      <td>2023-03-22</td>\n",
       "      <td>NaN</td>\n",
       "    </tr>\n",
       "    <tr>\n",
       "      <th>2642</th>\n",
       "      <td>113</td>\n",
       "      <td>2023-03-22</td>\n",
       "      <td>NaN</td>\n",
       "    </tr>\n",
       "    <tr>\n",
       "      <th>2643</th>\n",
       "      <td>114</td>\n",
       "      <td>2023-03-22</td>\n",
       "      <td>NaN</td>\n",
       "    </tr>\n",
       "    <tr>\n",
       "      <th>2644</th>\n",
       "      <td>115</td>\n",
       "      <td>2023-03-22</td>\n",
       "      <td>NaN</td>\n",
       "    </tr>\n",
       "  </tbody>\n",
       "</table>\n",
       "<p>2645 rows × 3 columns</p>\n",
       "</div>"
      ],
      "text/plain": [
       "       ID       date  obs\n",
       "0       1 2023-02-28    N\n",
       "1       2 2023-02-28    N\n",
       "2       3 2023-02-28    N\n",
       "3       4 2023-02-28    N\n",
       "4       5 2023-02-28    N\n",
       "...   ...        ...  ...\n",
       "2640  111 2023-03-22  NaN\n",
       "2641  112 2023-03-22  NaN\n",
       "2642  113 2023-03-22  NaN\n",
       "2643  114 2023-03-22  NaN\n",
       "2644  115 2023-03-22  NaN\n",
       "\n",
       "[2645 rows x 3 columns]"
      ]
     },
     "execution_count": 29,
     "metadata": {},
     "output_type": "execute_result"
    }
   ],
   "source": [
    "# get observations table\n",
    "\n",
    "df_observations = get_google_sheet(SHEET_ID, 'Observations')\n",
    "\n",
    "# No idea why the first column is unnamed, but this fixes the problem\n",
    "df_observations.rename(columns={'Unnamed: 0':'ID'}, inplace=True)\n",
    "\n",
    "# Drop all columns which do not contain data\n",
    "df_observations.dropna(axis='columns', how='all', inplace=True)\n",
    "\n",
    "# Convert the table into a more standard format\n",
    "df_observations = df_observations.melt(id_vars='ID')\n",
    "\n",
    "# Rename\n",
    "df_observations.rename(columns={'variable':'date', 'value':'obs'}, inplace=True)\n",
    "\n",
    "# Convert date from string to datetime\n",
    "df_observations['date'] = pd.to_datetime(df_observations['date'], format='%Y/%m/%d')\n",
    "\n",
    "df_observations"
   ]
  },
  {
   "cell_type": "code",
   "execution_count": 30,
   "id": "fbe0bde1-eae9-4c85-9be3-0abe773ca6f5",
   "metadata": {},
   "outputs": [
    {
     "data": {
      "text/html": [
       "<div>\n",
       "<style scoped>\n",
       "    .dataframe tbody tr th:only-of-type {\n",
       "        vertical-align: middle;\n",
       "    }\n",
       "\n",
       "    .dataframe tbody tr th {\n",
       "        vertical-align: top;\n",
       "    }\n",
       "\n",
       "    .dataframe thead th {\n",
       "        text-align: right;\n",
       "    }\n",
       "</style>\n",
       "<table border=\"1\" class=\"dataframe\">\n",
       "  <thead>\n",
       "    <tr style=\"text-align: right;\">\n",
       "      <th></th>\n",
       "      <th>ID</th>\n",
       "      <th>Group</th>\n",
       "      <th>date treated</th>\n",
       "      <th>date dead</th>\n",
       "      <th>Notes</th>\n",
       "      <th>date</th>\n",
       "      <th>obs</th>\n",
       "    </tr>\n",
       "  </thead>\n",
       "  <tbody>\n",
       "    <tr>\n",
       "      <th>0</th>\n",
       "      <td>1</td>\n",
       "      <td>A</td>\n",
       "      <td>1970-01-01 00:00:00.000028022</td>\n",
       "      <td>NaT</td>\n",
       "      <td>NaN</td>\n",
       "      <td>2023-02-28</td>\n",
       "      <td>N</td>\n",
       "    </tr>\n",
       "    <tr>\n",
       "      <th>1</th>\n",
       "      <td>1</td>\n",
       "      <td>A</td>\n",
       "      <td>1970-01-01 00:00:00.000028022</td>\n",
       "      <td>NaT</td>\n",
       "      <td>NaN</td>\n",
       "      <td>2023-03-01</td>\n",
       "      <td>N</td>\n",
       "    </tr>\n",
       "    <tr>\n",
       "      <th>2</th>\n",
       "      <td>1</td>\n",
       "      <td>A</td>\n",
       "      <td>1970-01-01 00:00:00.000028022</td>\n",
       "      <td>NaT</td>\n",
       "      <td>NaN</td>\n",
       "      <td>2023-03-02</td>\n",
       "      <td>F</td>\n",
       "    </tr>\n",
       "    <tr>\n",
       "      <th>3</th>\n",
       "      <td>1</td>\n",
       "      <td>A</td>\n",
       "      <td>1970-01-01 00:00:00.000028022</td>\n",
       "      <td>NaT</td>\n",
       "      <td>NaN</td>\n",
       "      <td>2023-03-03</td>\n",
       "      <td>F</td>\n",
       "    </tr>\n",
       "    <tr>\n",
       "      <th>4</th>\n",
       "      <td>1</td>\n",
       "      <td>A</td>\n",
       "      <td>1970-01-01 00:00:00.000028022</td>\n",
       "      <td>NaT</td>\n",
       "      <td>NaN</td>\n",
       "      <td>2023-03-04</td>\n",
       "      <td>NaN</td>\n",
       "    </tr>\n",
       "    <tr>\n",
       "      <th>...</th>\n",
       "      <td>...</td>\n",
       "      <td>...</td>\n",
       "      <td>...</td>\n",
       "      <td>...</td>\n",
       "      <td>...</td>\n",
       "      <td>...</td>\n",
       "      <td>...</td>\n",
       "    </tr>\n",
       "    <tr>\n",
       "      <th>2640</th>\n",
       "      <td>115</td>\n",
       "      <td>D</td>\n",
       "      <td>NaT</td>\n",
       "      <td>NaT</td>\n",
       "      <td>NaN</td>\n",
       "      <td>2023-03-18</td>\n",
       "      <td>N</td>\n",
       "    </tr>\n",
       "    <tr>\n",
       "      <th>2641</th>\n",
       "      <td>115</td>\n",
       "      <td>D</td>\n",
       "      <td>NaT</td>\n",
       "      <td>NaT</td>\n",
       "      <td>NaN</td>\n",
       "      <td>2023-03-19</td>\n",
       "      <td>N</td>\n",
       "    </tr>\n",
       "    <tr>\n",
       "      <th>2642</th>\n",
       "      <td>115</td>\n",
       "      <td>D</td>\n",
       "      <td>NaT</td>\n",
       "      <td>NaT</td>\n",
       "      <td>NaN</td>\n",
       "      <td>2023-03-20</td>\n",
       "      <td>NaN</td>\n",
       "    </tr>\n",
       "    <tr>\n",
       "      <th>2643</th>\n",
       "      <td>115</td>\n",
       "      <td>D</td>\n",
       "      <td>NaT</td>\n",
       "      <td>NaT</td>\n",
       "      <td>NaN</td>\n",
       "      <td>2023-03-21</td>\n",
       "      <td>NaN</td>\n",
       "    </tr>\n",
       "    <tr>\n",
       "      <th>2644</th>\n",
       "      <td>115</td>\n",
       "      <td>D</td>\n",
       "      <td>NaT</td>\n",
       "      <td>NaT</td>\n",
       "      <td>NaN</td>\n",
       "      <td>2023-03-22</td>\n",
       "      <td>NaN</td>\n",
       "    </tr>\n",
       "  </tbody>\n",
       "</table>\n",
       "<p>2645 rows × 7 columns</p>\n",
       "</div>"
      ],
      "text/plain": [
       "       ID Group                  date treated date dead Notes       date  obs\n",
       "0       1     A 1970-01-01 00:00:00.000028022       NaT   NaN 2023-02-28    N\n",
       "1       1     A 1970-01-01 00:00:00.000028022       NaT   NaN 2023-03-01    N\n",
       "2       1     A 1970-01-01 00:00:00.000028022       NaT   NaN 2023-03-02    F\n",
       "3       1     A 1970-01-01 00:00:00.000028022       NaT   NaN 2023-03-03    F\n",
       "4       1     A 1970-01-01 00:00:00.000028022       NaT   NaN 2023-03-04  NaN\n",
       "...   ...   ...                           ...       ...   ...        ...  ...\n",
       "2640  115     D                           NaT       NaT   NaN 2023-03-18    N\n",
       "2641  115     D                           NaT       NaT   NaN 2023-03-19    N\n",
       "2642  115     D                           NaT       NaT   NaN 2023-03-20  NaN\n",
       "2643  115     D                           NaT       NaT   NaN 2023-03-21  NaN\n",
       "2644  115     D                           NaT       NaT   NaN 2023-03-22  NaN\n",
       "\n",
       "[2645 rows x 7 columns]"
      ]
     },
     "execution_count": 30,
     "metadata": {},
     "output_type": "execute_result"
    }
   ],
   "source": [
    "# Merge tables using ID as key\n",
    "\n",
    "df_merged = df_beetles.merge(df_observations)\n",
    "\n",
    "# Drop all columns which do not contain data\n",
    "df_merged.dropna(axis='columns', how='all', inplace=True)\n",
    "\n",
    "# Select the rows we are interested in\n",
    "# df_merged = df_merged.query('obs.str.contains(\"F\") | obs.str.contains(\"N\")')\n",
    "\n",
    "df_merged"
   ]
  },
  {
   "cell_type": "code",
   "execution_count": 31,
   "id": "2f9bb933-48f8-4749-b346-74cab607a67e",
   "metadata": {},
   "outputs": [
    {
     "name": "stderr",
     "output_type": "stream",
     "text": [
      "/tmp/ipykernel_272411/4139199302.py:5: SettingWithCopyWarning:\n",
      "\n",
      "\n",
      "A value is trying to be set on a copy of a slice from a DataFrame.\n",
      "Try using .loc[row_indexer,col_indexer] = value instead\n",
      "\n",
      "See the caveats in the documentation: https://pandas.pydata.org/pandas-docs/stable/user_guide/indexing.html#returning-a-view-versus-a-copy\n",
      "\n"
     ]
    },
    {
     "data": {
      "text/html": [
       "<div>\n",
       "<style scoped>\n",
       "    .dataframe tbody tr th:only-of-type {\n",
       "        vertical-align: middle;\n",
       "    }\n",
       "\n",
       "    .dataframe tbody tr th {\n",
       "        vertical-align: top;\n",
       "    }\n",
       "\n",
       "    .dataframe thead th {\n",
       "        text-align: right;\n",
       "    }\n",
       "</style>\n",
       "<table border=\"1\" class=\"dataframe\">\n",
       "  <thead>\n",
       "    <tr style=\"text-align: right;\">\n",
       "      <th></th>\n",
       "      <th>ID</th>\n",
       "      <th>Group</th>\n",
       "      <th>date treated</th>\n",
       "      <th>date dead</th>\n",
       "      <th>Notes</th>\n",
       "      <th>date</th>\n",
       "      <th>obs</th>\n",
       "      <th>flew</th>\n",
       "    </tr>\n",
       "  </thead>\n",
       "  <tbody>\n",
       "    <tr>\n",
       "      <th>0</th>\n",
       "      <td>1</td>\n",
       "      <td>A</td>\n",
       "      <td>1970-01-01 00:00:00.000028022</td>\n",
       "      <td>NaT</td>\n",
       "      <td>NaN</td>\n",
       "      <td>2023-02-28</td>\n",
       "      <td>N</td>\n",
       "      <td>False</td>\n",
       "    </tr>\n",
       "    <tr>\n",
       "      <th>1</th>\n",
       "      <td>1</td>\n",
       "      <td>A</td>\n",
       "      <td>1970-01-01 00:00:00.000028022</td>\n",
       "      <td>NaT</td>\n",
       "      <td>NaN</td>\n",
       "      <td>2023-03-01</td>\n",
       "      <td>N</td>\n",
       "      <td>False</td>\n",
       "    </tr>\n",
       "    <tr>\n",
       "      <th>2</th>\n",
       "      <td>1</td>\n",
       "      <td>A</td>\n",
       "      <td>1970-01-01 00:00:00.000028022</td>\n",
       "      <td>NaT</td>\n",
       "      <td>NaN</td>\n",
       "      <td>2023-03-02</td>\n",
       "      <td>F</td>\n",
       "      <td>True</td>\n",
       "    </tr>\n",
       "    <tr>\n",
       "      <th>3</th>\n",
       "      <td>1</td>\n",
       "      <td>A</td>\n",
       "      <td>1970-01-01 00:00:00.000028022</td>\n",
       "      <td>NaT</td>\n",
       "      <td>NaN</td>\n",
       "      <td>2023-03-03</td>\n",
       "      <td>F</td>\n",
       "      <td>True</td>\n",
       "    </tr>\n",
       "    <tr>\n",
       "      <th>5</th>\n",
       "      <td>1</td>\n",
       "      <td>A</td>\n",
       "      <td>1970-01-01 00:00:00.000028022</td>\n",
       "      <td>NaT</td>\n",
       "      <td>NaN</td>\n",
       "      <td>2023-03-05</td>\n",
       "      <td>N</td>\n",
       "      <td>False</td>\n",
       "    </tr>\n",
       "    <tr>\n",
       "      <th>...</th>\n",
       "      <td>...</td>\n",
       "      <td>...</td>\n",
       "      <td>...</td>\n",
       "      <td>...</td>\n",
       "      <td>...</td>\n",
       "      <td>...</td>\n",
       "      <td>...</td>\n",
       "      <td>...</td>\n",
       "    </tr>\n",
       "    <tr>\n",
       "      <th>2637</th>\n",
       "      <td>115</td>\n",
       "      <td>D</td>\n",
       "      <td>NaT</td>\n",
       "      <td>NaT</td>\n",
       "      <td>NaN</td>\n",
       "      <td>2023-03-15</td>\n",
       "      <td>N</td>\n",
       "      <td>False</td>\n",
       "    </tr>\n",
       "    <tr>\n",
       "      <th>2638</th>\n",
       "      <td>115</td>\n",
       "      <td>D</td>\n",
       "      <td>NaT</td>\n",
       "      <td>NaT</td>\n",
       "      <td>NaN</td>\n",
       "      <td>2023-03-16</td>\n",
       "      <td>N</td>\n",
       "      <td>False</td>\n",
       "    </tr>\n",
       "    <tr>\n",
       "      <th>2639</th>\n",
       "      <td>115</td>\n",
       "      <td>D</td>\n",
       "      <td>NaT</td>\n",
       "      <td>NaT</td>\n",
       "      <td>NaN</td>\n",
       "      <td>2023-03-17</td>\n",
       "      <td>N</td>\n",
       "      <td>False</td>\n",
       "    </tr>\n",
       "    <tr>\n",
       "      <th>2640</th>\n",
       "      <td>115</td>\n",
       "      <td>D</td>\n",
       "      <td>NaT</td>\n",
       "      <td>NaT</td>\n",
       "      <td>NaN</td>\n",
       "      <td>2023-03-18</td>\n",
       "      <td>N</td>\n",
       "      <td>False</td>\n",
       "    </tr>\n",
       "    <tr>\n",
       "      <th>2641</th>\n",
       "      <td>115</td>\n",
       "      <td>D</td>\n",
       "      <td>NaT</td>\n",
       "      <td>NaT</td>\n",
       "      <td>NaN</td>\n",
       "      <td>2023-03-19</td>\n",
       "      <td>N</td>\n",
       "      <td>False</td>\n",
       "    </tr>\n",
       "  </tbody>\n",
       "</table>\n",
       "<p>1772 rows × 8 columns</p>\n",
       "</div>"
      ],
      "text/plain": [
       "       ID Group                  date treated date dead Notes       date obs  \\\n",
       "0       1     A 1970-01-01 00:00:00.000028022       NaT   NaN 2023-02-28   N   \n",
       "1       1     A 1970-01-01 00:00:00.000028022       NaT   NaN 2023-03-01   N   \n",
       "2       1     A 1970-01-01 00:00:00.000028022       NaT   NaN 2023-03-02   F   \n",
       "3       1     A 1970-01-01 00:00:00.000028022       NaT   NaN 2023-03-03   F   \n",
       "5       1     A 1970-01-01 00:00:00.000028022       NaT   NaN 2023-03-05   N   \n",
       "...   ...   ...                           ...       ...   ...        ...  ..   \n",
       "2637  115     D                           NaT       NaT   NaN 2023-03-15   N   \n",
       "2638  115     D                           NaT       NaT   NaN 2023-03-16   N   \n",
       "2639  115     D                           NaT       NaT   NaN 2023-03-17   N   \n",
       "2640  115     D                           NaT       NaT   NaN 2023-03-18   N   \n",
       "2641  115     D                           NaT       NaT   NaN 2023-03-19   N   \n",
       "\n",
       "       flew  \n",
       "0     False  \n",
       "1     False  \n",
       "2      True  \n",
       "3      True  \n",
       "5     False  \n",
       "...     ...  \n",
       "2637  False  \n",
       "2638  False  \n",
       "2639  False  \n",
       "2640  False  \n",
       "2641  False  \n",
       "\n",
       "[1772 rows x 8 columns]"
      ]
     },
     "execution_count": 31,
     "metadata": {},
     "output_type": "execute_result"
    }
   ],
   "source": [
    "# Select rows where obs contains 'F' (flew) or 'N' (did not fly)\n",
    "df_merged = df_merged.query(\"obs.str.contains('F') | obs.str.contains('N')\")\n",
    "\n",
    "# Create a new column 'flew'\n",
    "df_merged['flew'] = df_merged.obs.str.contains('F')\n",
    "\n",
    "df_merged"
   ]
  },
  {
   "cell_type": "code",
   "execution_count": 32,
   "id": "14d3d6b5-d8fa-4b3a-81e4-4cef204784d5",
   "metadata": {},
   "outputs": [
    {
     "data": {
      "text/html": [
       "<div>\n",
       "<style scoped>\n",
       "    .dataframe tbody tr th:only-of-type {\n",
       "        vertical-align: middle;\n",
       "    }\n",
       "\n",
       "    .dataframe tbody tr th {\n",
       "        vertical-align: top;\n",
       "    }\n",
       "\n",
       "    .dataframe thead th {\n",
       "        text-align: right;\n",
       "    }\n",
       "</style>\n",
       "<table border=\"1\" class=\"dataframe\">\n",
       "  <thead>\n",
       "    <tr style=\"text-align: right;\">\n",
       "      <th></th>\n",
       "      <th>Group</th>\n",
       "      <th>date</th>\n",
       "      <th>flew</th>\n",
       "    </tr>\n",
       "  </thead>\n",
       "  <tbody>\n",
       "    <tr>\n",
       "      <th>0</th>\n",
       "      <td>A</td>\n",
       "      <td>2023-02-28</td>\n",
       "      <td>False</td>\n",
       "    </tr>\n",
       "    <tr>\n",
       "      <th>1</th>\n",
       "      <td>A</td>\n",
       "      <td>2023-03-01</td>\n",
       "      <td>False</td>\n",
       "    </tr>\n",
       "    <tr>\n",
       "      <th>2</th>\n",
       "      <td>A</td>\n",
       "      <td>2023-03-02</td>\n",
       "      <td>True</td>\n",
       "    </tr>\n",
       "    <tr>\n",
       "      <th>3</th>\n",
       "      <td>A</td>\n",
       "      <td>2023-03-03</td>\n",
       "      <td>True</td>\n",
       "    </tr>\n",
       "    <tr>\n",
       "      <th>5</th>\n",
       "      <td>A</td>\n",
       "      <td>2023-03-05</td>\n",
       "      <td>False</td>\n",
       "    </tr>\n",
       "    <tr>\n",
       "      <th>...</th>\n",
       "      <td>...</td>\n",
       "      <td>...</td>\n",
       "      <td>...</td>\n",
       "    </tr>\n",
       "    <tr>\n",
       "      <th>2637</th>\n",
       "      <td>D</td>\n",
       "      <td>2023-03-15</td>\n",
       "      <td>False</td>\n",
       "    </tr>\n",
       "    <tr>\n",
       "      <th>2638</th>\n",
       "      <td>D</td>\n",
       "      <td>2023-03-16</td>\n",
       "      <td>False</td>\n",
       "    </tr>\n",
       "    <tr>\n",
       "      <th>2639</th>\n",
       "      <td>D</td>\n",
       "      <td>2023-03-17</td>\n",
       "      <td>False</td>\n",
       "    </tr>\n",
       "    <tr>\n",
       "      <th>2640</th>\n",
       "      <td>D</td>\n",
       "      <td>2023-03-18</td>\n",
       "      <td>False</td>\n",
       "    </tr>\n",
       "    <tr>\n",
       "      <th>2641</th>\n",
       "      <td>D</td>\n",
       "      <td>2023-03-19</td>\n",
       "      <td>False</td>\n",
       "    </tr>\n",
       "  </tbody>\n",
       "</table>\n",
       "<p>1772 rows × 3 columns</p>\n",
       "</div>"
      ],
      "text/plain": [
       "     Group       date   flew\n",
       "0        A 2023-02-28  False\n",
       "1        A 2023-03-01  False\n",
       "2        A 2023-03-02   True\n",
       "3        A 2023-03-03   True\n",
       "5        A 2023-03-05  False\n",
       "...    ...        ...    ...\n",
       "2637     D 2023-03-15  False\n",
       "2638     D 2023-03-16  False\n",
       "2639     D 2023-03-17  False\n",
       "2640     D 2023-03-18  False\n",
       "2641     D 2023-03-19  False\n",
       "\n",
       "[1772 rows x 3 columns]"
      ]
     },
     "execution_count": 32,
     "metadata": {},
     "output_type": "execute_result"
    }
   ],
   "source": [
    "# Create a new dataframe containing only the columns we need\n",
    "\n",
    "df = df_merged[['Group','date','flew']]\n",
    "df"
   ]
  },
  {
   "cell_type": "code",
   "execution_count": 33,
   "id": "f5983712-f2a8-4604-96b8-0f5d2b1d1c2c",
   "metadata": {},
   "outputs": [],
   "source": [
    "def proportion_flew(df):\n",
    "    \"\"\" returns proportion of beetles which flew \"\"\"\n",
    "    return df.flew.sum() / df.flew.count()\n",
    "\n",
    "# proportion_flew(df)"
   ]
  },
  {
   "cell_type": "code",
   "execution_count": 34,
   "id": "75bec3bb-12e2-419f-b3b1-247a41777cf6",
   "metadata": {},
   "outputs": [
    {
     "data": {
      "text/plain": [
       "Group  date      \n",
       "A      2023-02-28    0.035714\n",
       "       2023-03-01    0.035714\n",
       "       2023-03-02    1.000000\n",
       "       2023-03-03    0.785714\n",
       "       2023-03-05    0.107143\n",
       "                       ...   \n",
       "D      2023-03-15    0.041667\n",
       "       2023-03-16    0.083333\n",
       "       2023-03-17    0.083333\n",
       "       2023-03-18    0.000000\n",
       "       2023-03-19    0.041667\n",
       "Length: 72, dtype: float64"
      ]
     },
     "execution_count": 34,
     "metadata": {},
     "output_type": "execute_result"
    }
   ],
   "source": [
    "# calculate proportion of beetles which flew for each 'Group' and 'date'\n",
    "gb = df.groupby(['Group','date']).apply(proportion_flew)\n",
    "gb"
   ]
  },
  {
   "cell_type": "code",
   "execution_count": 35,
   "id": "4b55679e-06c2-4c5b-94a2-3de7f73eb9d7",
   "metadata": {},
   "outputs": [
    {
     "data": {
      "text/plain": [
       "Timestamp('2023-03-06 00:00:00')"
      ]
     },
     "execution_count": 35,
     "metadata": {},
     "output_type": "execute_result"
    }
   ],
   "source": [
    "pd.to_datetime('2023-03-06')"
   ]
  },
  {
   "cell_type": "markdown",
   "id": "6fca2c58-1e06-4af1-be7a-add5d7a889c4",
   "metadata": {
    "tags": []
   },
   "source": [
    "# PLOT"
   ]
  },
  {
   "cell_type": "code",
   "execution_count": 36,
   "id": "e5e88cbb-2f1f-410c-aae6-4d7c98301e26",
   "metadata": {},
   "outputs": [
    {
     "data": {
      "application/vnd.plotly.v1+json": {
       "config": {
        "plotlyServerURL": "https://plot.ly"
       },
       "data": [
        {
         "alignmentgroup": "True",
         "hovertemplate": "Group=A<br>date=%{x}<br>proportion_flew=%{y}<extra></extra>",
         "legendgroup": "A",
         "marker": {
          "color": "green",
          "pattern": {
           "shape": ""
          }
         },
         "name": "A",
         "offsetgroup": "A",
         "orientation": "v",
         "showlegend": true,
         "textposition": "auto",
         "type": "bar",
         "x": [
          "2023-02-28T00:00:00",
          "2023-03-01T00:00:00",
          "2023-03-02T00:00:00",
          "2023-03-03T00:00:00",
          "2023-03-05T00:00:00",
          "2023-03-06T00:00:00",
          "2023-03-07T00:00:00",
          "2023-03-08T00:00:00",
          "2023-03-09T00:00:00",
          "2023-03-10T00:00:00",
          "2023-03-11T00:00:00",
          "2023-03-12T00:00:00",
          "2023-03-13T00:00:00",
          "2023-03-15T00:00:00",
          "2023-03-16T00:00:00",
          "2023-03-17T00:00:00",
          "2023-03-18T00:00:00",
          "2023-03-19T00:00:00"
         ],
         "xaxis": "x4",
         "y": [
          0.03571428571428571,
          0.03571428571428571,
          1,
          0.7857142857142857,
          0.10714285714285714,
          0.17857142857142858,
          0.2857142857142857,
          0.17857142857142858,
          0.07142857142857142,
          0.037037037037037035,
          0.038461538461538464,
          0.07692307692307693,
          0.09523809523809523,
          0.041666666666666664,
          0.13636363636363635,
          0,
          0,
          0
         ],
         "yaxis": "y4"
        },
        {
         "alignmentgroup": "True",
         "hovertemplate": "Group=B<br>date=%{x}<br>proportion_flew=%{y}<extra></extra>",
         "legendgroup": "B",
         "marker": {
          "color": "green",
          "pattern": {
           "shape": ""
          }
         },
         "name": "B",
         "offsetgroup": "B",
         "orientation": "v",
         "showlegend": true,
         "textposition": "auto",
         "type": "bar",
         "x": [
          "2023-02-28T00:00:00",
          "2023-03-01T00:00:00",
          "2023-03-02T00:00:00",
          "2023-03-03T00:00:00",
          "2023-03-04T00:00:00",
          "2023-03-06T00:00:00",
          "2023-03-07T00:00:00",
          "2023-03-08T00:00:00",
          "2023-03-09T00:00:00",
          "2023-03-10T00:00:00",
          "2023-03-11T00:00:00",
          "2023-03-12T00:00:00",
          "2023-03-13T00:00:00",
          "2023-03-15T00:00:00",
          "2023-03-16T00:00:00",
          "2023-03-17T00:00:00",
          "2023-03-18T00:00:00",
          "2023-03-19T00:00:00"
         ],
         "xaxis": "x3",
         "y": [
          0.034482758620689655,
          0.034482758620689655,
          0.9310344827586207,
          0.896551724137931,
          0.5172413793103449,
          0.2413793103448276,
          0.13793103448275862,
          0.034482758620689655,
          0.06896551724137931,
          0.03571428571428571,
          0,
          0.03571428571428571,
          0.2,
          0.041666666666666664,
          0.1111111111111111,
          0.037037037037037035,
          0.037037037037037035,
          0
         ],
         "yaxis": "y3"
        },
        {
         "alignmentgroup": "True",
         "hovertemplate": "Group=C<br>date=%{x}<br>proportion_flew=%{y}<extra></extra>",
         "legendgroup": "C",
         "marker": {
          "color": "red",
          "pattern": {
           "shape": ""
          }
         },
         "name": "C",
         "offsetgroup": "C",
         "orientation": "v",
         "showlegend": true,
         "textposition": "auto",
         "type": "bar",
         "x": [
          "2023-02-28T00:00:00",
          "2023-03-01T00:00:00",
          "2023-03-02T00:00:00",
          "2023-03-03T00:00:00",
          "2023-03-04T00:00:00",
          "2023-03-05T00:00:00",
          "2023-03-06T00:00:00",
          "2023-03-07T00:00:00",
          "2023-03-08T00:00:00",
          "2023-03-09T00:00:00",
          "2023-03-10T00:00:00",
          "2023-03-11T00:00:00",
          "2023-03-12T00:00:00",
          "2023-03-13T00:00:00",
          "2023-03-15T00:00:00",
          "2023-03-16T00:00:00",
          "2023-03-17T00:00:00",
          "2023-03-18T00:00:00",
          "2023-03-19T00:00:00"
         ],
         "xaxis": "x2",
         "y": [
          0,
          0.10344827586206896,
          0.6896551724137931,
          0.7931034482758621,
          0.8,
          0.28,
          0,
          0.16,
          0.08,
          0,
          0.041666666666666664,
          0.045454545454545456,
          0.14285714285714285,
          0,
          0,
          0.05,
          0,
          0,
          0
         ],
         "yaxis": "y2"
        },
        {
         "alignmentgroup": "True",
         "hovertemplate": "Group=D<br>date=%{x}<br>proportion_flew=%{y}<extra></extra>",
         "legendgroup": "D",
         "marker": {
          "color": "red",
          "pattern": {
           "shape": ""
          }
         },
         "name": "D",
         "offsetgroup": "D",
         "orientation": "v",
         "showlegend": true,
         "textposition": "auto",
         "type": "bar",
         "x": [
          "2023-02-28T00:00:00",
          "2023-03-01T00:00:00",
          "2023-03-02T00:00:00",
          "2023-03-03T00:00:00",
          "2023-03-04T00:00:00",
          "2023-03-05T00:00:00",
          "2023-03-07T00:00:00",
          "2023-03-08T00:00:00",
          "2023-03-09T00:00:00",
          "2023-03-10T00:00:00",
          "2023-03-11T00:00:00",
          "2023-03-12T00:00:00",
          "2023-03-15T00:00:00",
          "2023-03-16T00:00:00",
          "2023-03-17T00:00:00",
          "2023-03-18T00:00:00",
          "2023-03-19T00:00:00"
         ],
         "xaxis": "x",
         "y": [
          0,
          0,
          0.7857142857142857,
          0.7777777777777778,
          0.24,
          0.22727272727272727,
          0.08695652173913043,
          0,
          0.043478260869565216,
          0.043478260869565216,
          0.043478260869565216,
          0,
          0.041666666666666664,
          0.08333333333333333,
          0.08333333333333333,
          0,
          0.041666666666666664
         ],
         "yaxis": "y"
        }
       ],
       "layout": {
        "annotations": [
         {
          "showarrow": false,
          "text": "Group=D",
          "textangle": 90,
          "x": 0.98,
          "xanchor": "left",
          "xref": "paper",
          "y": 0.11375,
          "yanchor": "middle",
          "yref": "paper"
         },
         {
          "showarrow": false,
          "text": "Group=C",
          "textangle": 90,
          "x": 0.98,
          "xanchor": "left",
          "xref": "paper",
          "y": 0.37124999999999997,
          "yanchor": "middle",
          "yref": "paper"
         },
         {
          "showarrow": false,
          "text": "Group=B",
          "textangle": 90,
          "x": 0.98,
          "xanchor": "left",
          "xref": "paper",
          "y": 0.62875,
          "yanchor": "middle",
          "yref": "paper"
         },
         {
          "showarrow": false,
          "text": "Group=A",
          "textangle": 90,
          "x": 0.98,
          "xanchor": "left",
          "xref": "paper",
          "y": 0.88625,
          "yanchor": "middle",
          "yref": "paper"
         },
         {
          "showarrow": false,
          "text": "food<br>+virus",
          "x": 1678003200000,
          "xanchor": "left",
          "xref": "x",
          "y": 1,
          "yanchor": "top",
          "yref": "y domain"
         },
         {
          "showarrow": false,
          "text": "food<br>+virus",
          "x": 1678003200000,
          "xanchor": "left",
          "xref": "x2",
          "y": 1,
          "yanchor": "top",
          "yref": "y2 domain"
         },
         {
          "showarrow": false,
          "text": "food",
          "x": 1677916800000,
          "xanchor": "left",
          "xref": "x3",
          "y": 1,
          "yanchor": "top",
          "yref": "y3 domain"
         },
         {
          "showarrow": false,
          "text": "food",
          "x": 1677830400000,
          "xanchor": "left",
          "xref": "x4",
          "y": 1,
          "yanchor": "top",
          "yref": "y4 domain"
         },
         {
          "showarrow": false,
          "text": "food",
          "x": 1678694400000,
          "xanchor": "left",
          "xref": "x",
          "y": 1,
          "yanchor": "top",
          "yref": "y domain"
         },
         {
          "showarrow": false,
          "text": "food",
          "x": 1678694400000,
          "xanchor": "left",
          "xref": "x2",
          "y": 1,
          "yanchor": "top",
          "yref": "y2 domain"
         },
         {
          "showarrow": false,
          "text": "food",
          "x": 1678694400000,
          "xanchor": "left",
          "xref": "x3",
          "y": 1,
          "yanchor": "top",
          "yref": "y3 domain"
         },
         {
          "showarrow": false,
          "text": "food",
          "x": 1678694400000,
          "xanchor": "left",
          "xref": "x4",
          "y": 1,
          "yanchor": "top",
          "yref": "y4 domain"
         }
        ],
        "barmode": "relative",
        "height": 1000,
        "legend": {
         "title": {
          "text": "Group"
         },
         "tracegroupgap": 0
        },
        "margin": {
         "t": 60
        },
        "shapes": [
         {
          "line": {
           "dash": "dot"
          },
          "type": "line",
          "x0": 1678003200000,
          "x1": 1678003200000,
          "xref": "x",
          "y0": 0,
          "y1": 1,
          "yref": "y domain"
         },
         {
          "line": {
           "dash": "dot"
          },
          "type": "line",
          "x0": 1678003200000,
          "x1": 1678003200000,
          "xref": "x2",
          "y0": 0,
          "y1": 1,
          "yref": "y2 domain"
         },
         {
          "line": {
           "dash": "dot"
          },
          "type": "line",
          "x0": 1677916800000,
          "x1": 1677916800000,
          "xref": "x3",
          "y0": 0,
          "y1": 1,
          "yref": "y3 domain"
         },
         {
          "line": {
           "dash": "dot"
          },
          "type": "line",
          "x0": 1677830400000,
          "x1": 1677830400000,
          "xref": "x4",
          "y0": 0,
          "y1": 1,
          "yref": "y4 domain"
         },
         {
          "line": {
           "dash": "dot"
          },
          "type": "line",
          "x0": 1678694400000,
          "x1": 1678694400000,
          "xref": "x",
          "y0": 0,
          "y1": 1,
          "yref": "y domain"
         },
         {
          "line": {
           "dash": "dot"
          },
          "type": "line",
          "x0": 1678694400000,
          "x1": 1678694400000,
          "xref": "x2",
          "y0": 0,
          "y1": 1,
          "yref": "y2 domain"
         },
         {
          "line": {
           "dash": "dot"
          },
          "type": "line",
          "x0": 1678694400000,
          "x1": 1678694400000,
          "xref": "x3",
          "y0": 0,
          "y1": 1,
          "yref": "y3 domain"
         },
         {
          "line": {
           "dash": "dot"
          },
          "type": "line",
          "x0": 1678694400000,
          "x1": 1678694400000,
          "xref": "x4",
          "y0": 0,
          "y1": 1,
          "yref": "y4 domain"
         }
        ],
        "showlegend": false,
        "template": {
         "data": {
          "bar": [
           {
            "error_x": {
             "color": "#2a3f5f"
            },
            "error_y": {
             "color": "#2a3f5f"
            },
            "marker": {
             "line": {
              "color": "#E5ECF6",
              "width": 0.5
             },
             "pattern": {
              "fillmode": "overlay",
              "size": 10,
              "solidity": 0.2
             }
            },
            "type": "bar"
           }
          ],
          "barpolar": [
           {
            "marker": {
             "line": {
              "color": "#E5ECF6",
              "width": 0.5
             },
             "pattern": {
              "fillmode": "overlay",
              "size": 10,
              "solidity": 0.2
             }
            },
            "type": "barpolar"
           }
          ],
          "carpet": [
           {
            "aaxis": {
             "endlinecolor": "#2a3f5f",
             "gridcolor": "white",
             "linecolor": "white",
             "minorgridcolor": "white",
             "startlinecolor": "#2a3f5f"
            },
            "baxis": {
             "endlinecolor": "#2a3f5f",
             "gridcolor": "white",
             "linecolor": "white",
             "minorgridcolor": "white",
             "startlinecolor": "#2a3f5f"
            },
            "type": "carpet"
           }
          ],
          "choropleth": [
           {
            "colorbar": {
             "outlinewidth": 0,
             "ticks": ""
            },
            "type": "choropleth"
           }
          ],
          "contour": [
           {
            "colorbar": {
             "outlinewidth": 0,
             "ticks": ""
            },
            "colorscale": [
             [
              0,
              "#0d0887"
             ],
             [
              0.1111111111111111,
              "#46039f"
             ],
             [
              0.2222222222222222,
              "#7201a8"
             ],
             [
              0.3333333333333333,
              "#9c179e"
             ],
             [
              0.4444444444444444,
              "#bd3786"
             ],
             [
              0.5555555555555556,
              "#d8576b"
             ],
             [
              0.6666666666666666,
              "#ed7953"
             ],
             [
              0.7777777777777778,
              "#fb9f3a"
             ],
             [
              0.8888888888888888,
              "#fdca26"
             ],
             [
              1,
              "#f0f921"
             ]
            ],
            "type": "contour"
           }
          ],
          "contourcarpet": [
           {
            "colorbar": {
             "outlinewidth": 0,
             "ticks": ""
            },
            "type": "contourcarpet"
           }
          ],
          "heatmap": [
           {
            "colorbar": {
             "outlinewidth": 0,
             "ticks": ""
            },
            "colorscale": [
             [
              0,
              "#0d0887"
             ],
             [
              0.1111111111111111,
              "#46039f"
             ],
             [
              0.2222222222222222,
              "#7201a8"
             ],
             [
              0.3333333333333333,
              "#9c179e"
             ],
             [
              0.4444444444444444,
              "#bd3786"
             ],
             [
              0.5555555555555556,
              "#d8576b"
             ],
             [
              0.6666666666666666,
              "#ed7953"
             ],
             [
              0.7777777777777778,
              "#fb9f3a"
             ],
             [
              0.8888888888888888,
              "#fdca26"
             ],
             [
              1,
              "#f0f921"
             ]
            ],
            "type": "heatmap"
           }
          ],
          "heatmapgl": [
           {
            "colorbar": {
             "outlinewidth": 0,
             "ticks": ""
            },
            "colorscale": [
             [
              0,
              "#0d0887"
             ],
             [
              0.1111111111111111,
              "#46039f"
             ],
             [
              0.2222222222222222,
              "#7201a8"
             ],
             [
              0.3333333333333333,
              "#9c179e"
             ],
             [
              0.4444444444444444,
              "#bd3786"
             ],
             [
              0.5555555555555556,
              "#d8576b"
             ],
             [
              0.6666666666666666,
              "#ed7953"
             ],
             [
              0.7777777777777778,
              "#fb9f3a"
             ],
             [
              0.8888888888888888,
              "#fdca26"
             ],
             [
              1,
              "#f0f921"
             ]
            ],
            "type": "heatmapgl"
           }
          ],
          "histogram": [
           {
            "marker": {
             "pattern": {
              "fillmode": "overlay",
              "size": 10,
              "solidity": 0.2
             }
            },
            "type": "histogram"
           }
          ],
          "histogram2d": [
           {
            "colorbar": {
             "outlinewidth": 0,
             "ticks": ""
            },
            "colorscale": [
             [
              0,
              "#0d0887"
             ],
             [
              0.1111111111111111,
              "#46039f"
             ],
             [
              0.2222222222222222,
              "#7201a8"
             ],
             [
              0.3333333333333333,
              "#9c179e"
             ],
             [
              0.4444444444444444,
              "#bd3786"
             ],
             [
              0.5555555555555556,
              "#d8576b"
             ],
             [
              0.6666666666666666,
              "#ed7953"
             ],
             [
              0.7777777777777778,
              "#fb9f3a"
             ],
             [
              0.8888888888888888,
              "#fdca26"
             ],
             [
              1,
              "#f0f921"
             ]
            ],
            "type": "histogram2d"
           }
          ],
          "histogram2dcontour": [
           {
            "colorbar": {
             "outlinewidth": 0,
             "ticks": ""
            },
            "colorscale": [
             [
              0,
              "#0d0887"
             ],
             [
              0.1111111111111111,
              "#46039f"
             ],
             [
              0.2222222222222222,
              "#7201a8"
             ],
             [
              0.3333333333333333,
              "#9c179e"
             ],
             [
              0.4444444444444444,
              "#bd3786"
             ],
             [
              0.5555555555555556,
              "#d8576b"
             ],
             [
              0.6666666666666666,
              "#ed7953"
             ],
             [
              0.7777777777777778,
              "#fb9f3a"
             ],
             [
              0.8888888888888888,
              "#fdca26"
             ],
             [
              1,
              "#f0f921"
             ]
            ],
            "type": "histogram2dcontour"
           }
          ],
          "mesh3d": [
           {
            "colorbar": {
             "outlinewidth": 0,
             "ticks": ""
            },
            "type": "mesh3d"
           }
          ],
          "parcoords": [
           {
            "line": {
             "colorbar": {
              "outlinewidth": 0,
              "ticks": ""
             }
            },
            "type": "parcoords"
           }
          ],
          "pie": [
           {
            "automargin": true,
            "type": "pie"
           }
          ],
          "scatter": [
           {
            "fillpattern": {
             "fillmode": "overlay",
             "size": 10,
             "solidity": 0.2
            },
            "type": "scatter"
           }
          ],
          "scatter3d": [
           {
            "line": {
             "colorbar": {
              "outlinewidth": 0,
              "ticks": ""
             }
            },
            "marker": {
             "colorbar": {
              "outlinewidth": 0,
              "ticks": ""
             }
            },
            "type": "scatter3d"
           }
          ],
          "scattercarpet": [
           {
            "marker": {
             "colorbar": {
              "outlinewidth": 0,
              "ticks": ""
             }
            },
            "type": "scattercarpet"
           }
          ],
          "scattergeo": [
           {
            "marker": {
             "colorbar": {
              "outlinewidth": 0,
              "ticks": ""
             }
            },
            "type": "scattergeo"
           }
          ],
          "scattergl": [
           {
            "marker": {
             "colorbar": {
              "outlinewidth": 0,
              "ticks": ""
             }
            },
            "type": "scattergl"
           }
          ],
          "scattermapbox": [
           {
            "marker": {
             "colorbar": {
              "outlinewidth": 0,
              "ticks": ""
             }
            },
            "type": "scattermapbox"
           }
          ],
          "scatterpolar": [
           {
            "marker": {
             "colorbar": {
              "outlinewidth": 0,
              "ticks": ""
             }
            },
            "type": "scatterpolar"
           }
          ],
          "scatterpolargl": [
           {
            "marker": {
             "colorbar": {
              "outlinewidth": 0,
              "ticks": ""
             }
            },
            "type": "scatterpolargl"
           }
          ],
          "scatterternary": [
           {
            "marker": {
             "colorbar": {
              "outlinewidth": 0,
              "ticks": ""
             }
            },
            "type": "scatterternary"
           }
          ],
          "surface": [
           {
            "colorbar": {
             "outlinewidth": 0,
             "ticks": ""
            },
            "colorscale": [
             [
              0,
              "#0d0887"
             ],
             [
              0.1111111111111111,
              "#46039f"
             ],
             [
              0.2222222222222222,
              "#7201a8"
             ],
             [
              0.3333333333333333,
              "#9c179e"
             ],
             [
              0.4444444444444444,
              "#bd3786"
             ],
             [
              0.5555555555555556,
              "#d8576b"
             ],
             [
              0.6666666666666666,
              "#ed7953"
             ],
             [
              0.7777777777777778,
              "#fb9f3a"
             ],
             [
              0.8888888888888888,
              "#fdca26"
             ],
             [
              1,
              "#f0f921"
             ]
            ],
            "type": "surface"
           }
          ],
          "table": [
           {
            "cells": {
             "fill": {
              "color": "#EBF0F8"
             },
             "line": {
              "color": "white"
             }
            },
            "header": {
             "fill": {
              "color": "#C8D4E3"
             },
             "line": {
              "color": "white"
             }
            },
            "type": "table"
           }
          ]
         },
         "layout": {
          "annotationdefaults": {
           "arrowcolor": "#2a3f5f",
           "arrowhead": 0,
           "arrowwidth": 1
          },
          "autotypenumbers": "strict",
          "coloraxis": {
           "colorbar": {
            "outlinewidth": 0,
            "ticks": ""
           }
          },
          "colorscale": {
           "diverging": [
            [
             0,
             "#8e0152"
            ],
            [
             0.1,
             "#c51b7d"
            ],
            [
             0.2,
             "#de77ae"
            ],
            [
             0.3,
             "#f1b6da"
            ],
            [
             0.4,
             "#fde0ef"
            ],
            [
             0.5,
             "#f7f7f7"
            ],
            [
             0.6,
             "#e6f5d0"
            ],
            [
             0.7,
             "#b8e186"
            ],
            [
             0.8,
             "#7fbc41"
            ],
            [
             0.9,
             "#4d9221"
            ],
            [
             1,
             "#276419"
            ]
           ],
           "sequential": [
            [
             0,
             "#0d0887"
            ],
            [
             0.1111111111111111,
             "#46039f"
            ],
            [
             0.2222222222222222,
             "#7201a8"
            ],
            [
             0.3333333333333333,
             "#9c179e"
            ],
            [
             0.4444444444444444,
             "#bd3786"
            ],
            [
             0.5555555555555556,
             "#d8576b"
            ],
            [
             0.6666666666666666,
             "#ed7953"
            ],
            [
             0.7777777777777778,
             "#fb9f3a"
            ],
            [
             0.8888888888888888,
             "#fdca26"
            ],
            [
             1,
             "#f0f921"
            ]
           ],
           "sequentialminus": [
            [
             0,
             "#0d0887"
            ],
            [
             0.1111111111111111,
             "#46039f"
            ],
            [
             0.2222222222222222,
             "#7201a8"
            ],
            [
             0.3333333333333333,
             "#9c179e"
            ],
            [
             0.4444444444444444,
             "#bd3786"
            ],
            [
             0.5555555555555556,
             "#d8576b"
            ],
            [
             0.6666666666666666,
             "#ed7953"
            ],
            [
             0.7777777777777778,
             "#fb9f3a"
            ],
            [
             0.8888888888888888,
             "#fdca26"
            ],
            [
             1,
             "#f0f921"
            ]
           ]
          },
          "colorway": [
           "#636efa",
           "#EF553B",
           "#00cc96",
           "#ab63fa",
           "#FFA15A",
           "#19d3f3",
           "#FF6692",
           "#B6E880",
           "#FF97FF",
           "#FECB52"
          ],
          "font": {
           "color": "#2a3f5f"
          },
          "geo": {
           "bgcolor": "white",
           "lakecolor": "white",
           "landcolor": "#E5ECF6",
           "showlakes": true,
           "showland": true,
           "subunitcolor": "white"
          },
          "hoverlabel": {
           "align": "left"
          },
          "hovermode": "closest",
          "mapbox": {
           "style": "light"
          },
          "paper_bgcolor": "white",
          "plot_bgcolor": "#E5ECF6",
          "polar": {
           "angularaxis": {
            "gridcolor": "white",
            "linecolor": "white",
            "ticks": ""
           },
           "bgcolor": "#E5ECF6",
           "radialaxis": {
            "gridcolor": "white",
            "linecolor": "white",
            "ticks": ""
           }
          },
          "scene": {
           "xaxis": {
            "backgroundcolor": "#E5ECF6",
            "gridcolor": "white",
            "gridwidth": 2,
            "linecolor": "white",
            "showbackground": true,
            "ticks": "",
            "zerolinecolor": "white"
           },
           "yaxis": {
            "backgroundcolor": "#E5ECF6",
            "gridcolor": "white",
            "gridwidth": 2,
            "linecolor": "white",
            "showbackground": true,
            "ticks": "",
            "zerolinecolor": "white"
           },
           "zaxis": {
            "backgroundcolor": "#E5ECF6",
            "gridcolor": "white",
            "gridwidth": 2,
            "linecolor": "white",
            "showbackground": true,
            "ticks": "",
            "zerolinecolor": "white"
           }
          },
          "shapedefaults": {
           "line": {
            "color": "#2a3f5f"
           }
          },
          "ternary": {
           "aaxis": {
            "gridcolor": "white",
            "linecolor": "white",
            "ticks": ""
           },
           "baxis": {
            "gridcolor": "white",
            "linecolor": "white",
            "ticks": ""
           },
           "bgcolor": "#E5ECF6",
           "caxis": {
            "gridcolor": "white",
            "linecolor": "white",
            "ticks": ""
           }
          },
          "title": {
           "x": 0.05
          },
          "xaxis": {
           "automargin": true,
           "gridcolor": "white",
           "linecolor": "white",
           "ticks": "",
           "title": {
            "standoff": 15
           },
           "zerolinecolor": "white",
           "zerolinewidth": 2
          },
          "yaxis": {
           "automargin": true,
           "gridcolor": "white",
           "linecolor": "white",
           "ticks": "",
           "title": {
            "standoff": 15
           },
           "zerolinecolor": "white",
           "zerolinewidth": 2
          }
         }
        },
        "width": 1000,
        "xaxis": {
         "anchor": "y",
         "autorange": true,
         "domain": [
          0,
          0.98
         ],
         "range": [
          "2023-02-27 12:00",
          "2023-03-19 12:00"
         ],
         "title": {
          "text": "date"
         },
         "type": "date"
        },
        "xaxis2": {
         "anchor": "y2",
         "autorange": true,
         "domain": [
          0,
          0.98
         ],
         "matches": "x",
         "range": [
          "2023-02-27 12:00",
          "2023-03-19 12:00"
         ],
         "showticklabels": false,
         "type": "date"
        },
        "xaxis3": {
         "anchor": "y3",
         "autorange": true,
         "domain": [
          0,
          0.98
         ],
         "matches": "x",
         "range": [
          "2023-02-27 12:00",
          "2023-03-19 12:00"
         ],
         "showticklabels": false,
         "type": "date"
        },
        "xaxis4": {
         "anchor": "y4",
         "autorange": true,
         "domain": [
          0,
          0.98
         ],
         "matches": "x",
         "range": [
          "2023-02-27 12:00",
          "2023-03-19 12:00"
         ],
         "showticklabels": false,
         "type": "date"
        },
        "yaxis": {
         "anchor": "x",
         "autorange": true,
         "domain": [
          0,
          0.2275
         ],
         "range": [
          0,
          1.0526315789473684
         ],
         "title": {
          "text": "proportion_flew"
         },
         "type": "linear"
        },
        "yaxis2": {
         "anchor": "x2",
         "autorange": true,
         "domain": [
          0.2575,
          0.485
         ],
         "matches": "y",
         "range": [
          0,
          1.0526315789473684
         ],
         "title": {
          "text": "proportion_flew"
         },
         "type": "linear"
        },
        "yaxis3": {
         "anchor": "x3",
         "autorange": true,
         "domain": [
          0.515,
          0.7425
         ],
         "matches": "y",
         "range": [
          0,
          1.0526315789473684
         ],
         "title": {
          "text": "proportion_flew"
         },
         "type": "linear"
        },
        "yaxis4": {
         "anchor": "x4",
         "autorange": true,
         "domain": [
          0.7725,
          1
         ],
         "matches": "y",
         "range": [
          0,
          1.0526315789473684
         ],
         "title": {
          "text": "proportion_flew"
         },
         "type": "linear"
        }
       }
      },
      "image/png": "[encoded data removed]",
      "text/html": [
       "<div>                            <div id=\"de7f5a53-ffa6-4d89-8a73-b6e2af72dd30\" class=\"plotly-graph-div\" style=\"height:1000px; width:1000px;\"></div>            <script type=\"text/javascript\">                require([\"plotly\"], function(Plotly) {                    window.PLOTLYENV=window.PLOTLYENV || {};                                    if (document.getElementById(\"de7f5a53-ffa6-4d89-8a73-b6e2af72dd30\")) {                    Plotly.newPlot(                        \"de7f5a53-ffa6-4d89-8a73-b6e2af72dd30\",                        [{\"alignmentgroup\":\"True\",\"hovertemplate\":\"Group=A<br>date=%{x}<br>proportion_flew=%{y}<extra></extra>\",\"legendgroup\":\"A\",\"marker\":{\"color\":\"green\",\"pattern\":{\"shape\":\"\"}},\"name\":\"A\",\"offsetgroup\":\"A\",\"orientation\":\"v\",\"showlegend\":true,\"textposition\":\"auto\",\"x\":[\"2023-02-28T00:00:00\",\"2023-03-01T00:00:00\",\"2023-03-02T00:00:00\",\"2023-03-03T00:00:00\",\"2023-03-05T00:00:00\",\"2023-03-06T00:00:00\",\"2023-03-07T00:00:00\",\"2023-03-08T00:00:00\",\"2023-03-09T00:00:00\",\"2023-03-10T00:00:00\",\"2023-03-11T00:00:00\",\"2023-03-12T00:00:00\",\"2023-03-13T00:00:00\",\"2023-03-15T00:00:00\",\"2023-03-16T00:00:00\",\"2023-03-17T00:00:00\",\"2023-03-18T00:00:00\",\"2023-03-19T00:00:00\"],\"xaxis\":\"x4\",\"y\":[0.03571428571428571,0.03571428571428571,1.0,0.7857142857142857,0.10714285714285714,0.17857142857142858,0.2857142857142857,0.17857142857142858,0.07142857142857142,0.037037037037037035,0.038461538461538464,0.07692307692307693,0.09523809523809523,0.041666666666666664,0.13636363636363635,0.0,0.0,0.0],\"yaxis\":\"y4\",\"type\":\"bar\"},{\"alignmentgroup\":\"True\",\"hovertemplate\":\"Group=B<br>date=%{x}<br>proportion_flew=%{y}<extra></extra>\",\"legendgroup\":\"B\",\"marker\":{\"color\":\"green\",\"pattern\":{\"shape\":\"\"}},\"name\":\"B\",\"offsetgroup\":\"B\",\"orientation\":\"v\",\"showlegend\":true,\"textposition\":\"auto\",\"x\":[\"2023-02-28T00:00:00\",\"2023-03-01T00:00:00\",\"2023-03-02T00:00:00\",\"2023-03-03T00:00:00\",\"2023-03-04T00:00:00\",\"2023-03-06T00:00:00\",\"2023-03-07T00:00:00\",\"2023-03-08T00:00:00\",\"2023-03-09T00:00:00\",\"2023-03-10T00:00:00\",\"2023-03-11T00:00:00\",\"2023-03-12T00:00:00\",\"2023-03-13T00:00:00\",\"2023-03-15T00:00:00\",\"2023-03-16T00:00:00\",\"2023-03-17T00:00:00\",\"2023-03-18T00:00:00\",\"2023-03-19T00:00:00\"],\"xaxis\":\"x3\",\"y\":[0.034482758620689655,0.034482758620689655,0.9310344827586207,0.896551724137931,0.5172413793103449,0.2413793103448276,0.13793103448275862,0.034482758620689655,0.06896551724137931,0.03571428571428571,0.0,0.03571428571428571,0.2,0.041666666666666664,0.1111111111111111,0.037037037037037035,0.037037037037037035,0.0],\"yaxis\":\"y3\",\"type\":\"bar\"},{\"alignmentgroup\":\"True\",\"hovertemplate\":\"Group=C<br>date=%{x}<br>proportion_flew=%{y}<extra></extra>\",\"legendgroup\":\"C\",\"marker\":{\"color\":\"red\",\"pattern\":{\"shape\":\"\"}},\"name\":\"C\",\"offsetgroup\":\"C\",\"orientation\":\"v\",\"showlegend\":true,\"textposition\":\"auto\",\"x\":[\"2023-02-28T00:00:00\",\"2023-03-01T00:00:00\",\"2023-03-02T00:00:00\",\"2023-03-03T00:00:00\",\"2023-03-04T00:00:00\",\"2023-03-05T00:00:00\",\"2023-03-06T00:00:00\",\"2023-03-07T00:00:00\",\"2023-03-08T00:00:00\",\"2023-03-09T00:00:00\",\"2023-03-10T00:00:00\",\"2023-03-11T00:00:00\",\"2023-03-12T00:00:00\",\"2023-03-13T00:00:00\",\"2023-03-15T00:00:00\",\"2023-03-16T00:00:00\",\"2023-03-17T00:00:00\",\"2023-03-18T00:00:00\",\"2023-03-19T00:00:00\"],\"xaxis\":\"x2\",\"y\":[0.0,0.10344827586206896,0.6896551724137931,0.7931034482758621,0.8,0.28,0.0,0.16,0.08,0.0,0.041666666666666664,0.045454545454545456,0.14285714285714285,0.0,0.0,0.05,0.0,0.0,0.0],\"yaxis\":\"y2\",\"type\":\"bar\"},{\"alignmentgroup\":\"True\",\"hovertemplate\":\"Group=D<br>date=%{x}<br>proportion_flew=%{y}<extra></extra>\",\"legendgroup\":\"D\",\"marker\":{\"color\":\"red\",\"pattern\":{\"shape\":\"\"}},\"name\":\"D\",\"offsetgroup\":\"D\",\"orientation\":\"v\",\"showlegend\":true,\"textposition\":\"auto\",\"x\":[\"2023-02-28T00:00:00\",\"2023-03-01T00:00:00\",\"2023-03-02T00:00:00\",\"2023-03-03T00:00:00\",\"2023-03-04T00:00:00\",\"2023-03-05T00:00:00\",\"2023-03-07T00:00:00\",\"2023-03-08T00:00:00\",\"2023-03-09T00:00:00\",\"2023-03-10T00:00:00\",\"2023-03-11T00:00:00\",\"2023-03-12T00:00:00\",\"2023-03-15T00:00:00\",\"2023-03-16T00:00:00\",\"2023-03-17T00:00:00\",\"2023-03-18T00:00:00\",\"2023-03-19T00:00:00\"],\"xaxis\":\"x\",\"y\":[0.0,0.0,0.7857142857142857,0.7777777777777778,0.24,0.22727272727272727,0.08695652173913043,0.0,0.043478260869565216,0.043478260869565216,0.043478260869565216,0.0,0.041666666666666664,0.08333333333333333,0.08333333333333333,0.0,0.041666666666666664],\"yaxis\":\"y\",\"type\":\"bar\"}],                        {\"template\":{\"data\":{\"histogram2dcontour\":[{\"type\":\"histogram2dcontour\",\"colorbar\":{\"outlinewidth\":0,\"ticks\":\"\"},\"colorscale\":[[0.0,\"#0d0887\"],[0.1111111111111111,\"#46039f\"],[0.2222222222222222,\"#7201a8\"],[0.3333333333333333,\"#9c179e\"],[0.4444444444444444,\"#bd3786\"],[0.5555555555555556,\"#d8576b\"],[0.6666666666666666,\"#ed7953\"],[0.7777777777777778,\"#fb9f3a\"],[0.8888888888888888,\"#fdca26\"],[1.0,\"#f0f921\"]]}],\"choropleth\":[{\"type\":\"choropleth\",\"colorbar\":{\"outlinewidth\":0,\"ticks\":\"\"}}],\"histogram2d\":[{\"type\":\"histogram2d\",\"colorbar\":{\"outlinewidth\":0,\"ticks\":\"\"},\"colorscale\":[[0.0,\"#0d0887\"],[0.1111111111111111,\"#46039f\"],[0.2222222222222222,\"#7201a8\"],[0.3333333333333333,\"#9c179e\"],[0.4444444444444444,\"#bd3786\"],[0.5555555555555556,\"#d8576b\"],[0.6666666666666666,\"#ed7953\"],[0.7777777777777778,\"#fb9f3a\"],[0.8888888888888888,\"#fdca26\"],[1.0,\"#f0f921\"]]}],\"heatmap\":[{\"type\":\"heatmap\",\"colorbar\":{\"outlinewidth\":0,\"ticks\":\"\"},\"colorscale\":[[0.0,\"#0d0887\"],[0.1111111111111111,\"#46039f\"],[0.2222222222222222,\"#7201a8\"],[0.3333333333333333,\"#9c179e\"],[0.4444444444444444,\"#bd3786\"],[0.5555555555555556,\"#d8576b\"],[0.6666666666666666,\"#ed7953\"],[0.7777777777777778,\"#fb9f3a\"],[0.8888888888888888,\"#fdca26\"],[1.0,\"#f0f921\"]]}],\"heatmapgl\":[{\"type\":\"heatmapgl\",\"colorbar\":{\"outlinewidth\":0,\"ticks\":\"\"},\"colorscale\":[[0.0,\"#0d0887\"],[0.1111111111111111,\"#46039f\"],[0.2222222222222222,\"#7201a8\"],[0.3333333333333333,\"#9c179e\"],[0.4444444444444444,\"#bd3786\"],[0.5555555555555556,\"#d8576b\"],[0.6666666666666666,\"#ed7953\"],[0.7777777777777778,\"#fb9f3a\"],[0.8888888888888888,\"#fdca26\"],[1.0,\"#f0f921\"]]}],\"contourcarpet\":[{\"type\":\"contourcarpet\",\"colorbar\":{\"outlinewidth\":0,\"ticks\":\"\"}}],\"contour\":[{\"type\":\"contour\",\"colorbar\":{\"outlinewidth\":0,\"ticks\":\"\"},\"colorscale\":[[0.0,\"#0d0887\"],[0.1111111111111111,\"#46039f\"],[0.2222222222222222,\"#7201a8\"],[0.3333333333333333,\"#9c179e\"],[0.4444444444444444,\"#bd3786\"],[0.5555555555555556,\"#d8576b\"],[0.6666666666666666,\"#ed7953\"],[0.7777777777777778,\"#fb9f3a\"],[0.8888888888888888,\"#fdca26\"],[1.0,\"#f0f921\"]]}],\"surface\":[{\"type\":\"surface\",\"colorbar\":{\"outlinewidth\":0,\"ticks\":\"\"},\"colorscale\":[[0.0,\"#0d0887\"],[0.1111111111111111,\"#46039f\"],[0.2222222222222222,\"#7201a8\"],[0.3333333333333333,\"#9c179e\"],[0.4444444444444444,\"#bd3786\"],[0.5555555555555556,\"#d8576b\"],[0.6666666666666666,\"#ed7953\"],[0.7777777777777778,\"#fb9f3a\"],[0.8888888888888888,\"#fdca26\"],[1.0,\"#f0f921\"]]}],\"mesh3d\":[{\"type\":\"mesh3d\",\"colorbar\":{\"outlinewidth\":0,\"ticks\":\"\"}}],\"scatter\":[{\"fillpattern\":{\"fillmode\":\"overlay\",\"size\":10,\"solidity\":0.2},\"type\":\"scatter\"}],\"parcoords\":[{\"type\":\"parcoords\",\"line\":{\"colorbar\":{\"outlinewidth\":0,\"ticks\":\"\"}}}],\"scatterpolargl\":[{\"type\":\"scatterpolargl\",\"marker\":{\"colorbar\":{\"outlinewidth\":0,\"ticks\":\"\"}}}],\"bar\":[{\"error_x\":{\"color\":\"#2a3f5f\"},\"error_y\":{\"color\":\"#2a3f5f\"},\"marker\":{\"line\":{\"color\":\"#E5ECF6\",\"width\":0.5},\"pattern\":{\"fillmode\":\"overlay\",\"size\":10,\"solidity\":0.2}},\"type\":\"bar\"}],\"scattergeo\":[{\"type\":\"scattergeo\",\"marker\":{\"colorbar\":{\"outlinewidth\":0,\"ticks\":\"\"}}}],\"scatterpolar\":[{\"type\":\"scatterpolar\",\"marker\":{\"colorbar\":{\"outlinewidth\":0,\"ticks\":\"\"}}}],\"histogram\":[{\"marker\":{\"pattern\":{\"fillmode\":\"overlay\",\"size\":10,\"solidity\":0.2}},\"type\":\"histogram\"}],\"scattergl\":[{\"type\":\"scattergl\",\"marker\":{\"colorbar\":{\"outlinewidth\":0,\"ticks\":\"\"}}}],\"scatter3d\":[{\"type\":\"scatter3d\",\"line\":{\"colorbar\":{\"outlinewidth\":0,\"ticks\":\"\"}},\"marker\":{\"colorbar\":{\"outlinewidth\":0,\"ticks\":\"\"}}}],\"scattermapbox\":[{\"type\":\"scattermapbox\",\"marker\":{\"colorbar\":{\"outlinewidth\":0,\"ticks\":\"\"}}}],\"scatterternary\":[{\"type\":\"scatterternary\",\"marker\":{\"colorbar\":{\"outlinewidth\":0,\"ticks\":\"\"}}}],\"scattercarpet\":[{\"type\":\"scattercarpet\",\"marker\":{\"colorbar\":{\"outlinewidth\":0,\"ticks\":\"\"}}}],\"carpet\":[{\"aaxis\":{\"endlinecolor\":\"#2a3f5f\",\"gridcolor\":\"white\",\"linecolor\":\"white\",\"minorgridcolor\":\"white\",\"startlinecolor\":\"#2a3f5f\"},\"baxis\":{\"endlinecolor\":\"#2a3f5f\",\"gridcolor\":\"white\",\"linecolor\":\"white\",\"minorgridcolor\":\"white\",\"startlinecolor\":\"#2a3f5f\"},\"type\":\"carpet\"}],\"table\":[{\"cells\":{\"fill\":{\"color\":\"#EBF0F8\"},\"line\":{\"color\":\"white\"}},\"header\":{\"fill\":{\"color\":\"#C8D4E3\"},\"line\":{\"color\":\"white\"}},\"type\":\"table\"}],\"barpolar\":[{\"marker\":{\"line\":{\"color\":\"#E5ECF6\",\"width\":0.5},\"pattern\":{\"fillmode\":\"overlay\",\"size\":10,\"solidity\":0.2}},\"type\":\"barpolar\"}],\"pie\":[{\"automargin\":true,\"type\":\"pie\"}]},\"layout\":{\"autotypenumbers\":\"strict\",\"colorway\":[\"#636efa\",\"#EF553B\",\"#00cc96\",\"#ab63fa\",\"#FFA15A\",\"#19d3f3\",\"#FF6692\",\"#B6E880\",\"#FF97FF\",\"#FECB52\"],\"font\":{\"color\":\"#2a3f5f\"},\"hovermode\":\"closest\",\"hoverlabel\":{\"align\":\"left\"},\"paper_bgcolor\":\"white\",\"plot_bgcolor\":\"#E5ECF6\",\"polar\":{\"bgcolor\":\"#E5ECF6\",\"angularaxis\":{\"gridcolor\":\"white\",\"linecolor\":\"white\",\"ticks\":\"\"},\"radialaxis\":{\"gridcolor\":\"white\",\"linecolor\":\"white\",\"ticks\":\"\"}},\"ternary\":{\"bgcolor\":\"#E5ECF6\",\"aaxis\":{\"gridcolor\":\"white\",\"linecolor\":\"white\",\"ticks\":\"\"},\"baxis\":{\"gridcolor\":\"white\",\"linecolor\":\"white\",\"ticks\":\"\"},\"caxis\":{\"gridcolor\":\"white\",\"linecolor\":\"white\",\"ticks\":\"\"}},\"coloraxis\":{\"colorbar\":{\"outlinewidth\":0,\"ticks\":\"\"}},\"colorscale\":{\"sequential\":[[0.0,\"#0d0887\"],[0.1111111111111111,\"#46039f\"],[0.2222222222222222,\"#7201a8\"],[0.3333333333333333,\"#9c179e\"],[0.4444444444444444,\"#bd3786\"],[0.5555555555555556,\"#d8576b\"],[0.6666666666666666,\"#ed7953\"],[0.7777777777777778,\"#fb9f3a\"],[0.8888888888888888,\"#fdca26\"],[1.0,\"#f0f921\"]],\"sequentialminus\":[[0.0,\"#0d0887\"],[0.1111111111111111,\"#46039f\"],[0.2222222222222222,\"#7201a8\"],[0.3333333333333333,\"#9c179e\"],[0.4444444444444444,\"#bd3786\"],[0.5555555555555556,\"#d8576b\"],[0.6666666666666666,\"#ed7953\"],[0.7777777777777778,\"#fb9f3a\"],[0.8888888888888888,\"#fdca26\"],[1.0,\"#f0f921\"]],\"diverging\":[[0,\"#8e0152\"],[0.1,\"#c51b7d\"],[0.2,\"#de77ae\"],[0.3,\"#f1b6da\"],[0.4,\"#fde0ef\"],[0.5,\"#f7f7f7\"],[0.6,\"#e6f5d0\"],[0.7,\"#b8e186\"],[0.8,\"#7fbc41\"],[0.9,\"#4d9221\"],[1,\"#276419\"]]},\"xaxis\":{\"gridcolor\":\"white\",\"linecolor\":\"white\",\"ticks\":\"\",\"title\":{\"standoff\":15},\"zerolinecolor\":\"white\",\"automargin\":true,\"zerolinewidth\":2},\"yaxis\":{\"gridcolor\":\"white\",\"linecolor\":\"white\",\"ticks\":\"\",\"title\":{\"standoff\":15},\"zerolinecolor\":\"white\",\"automargin\":true,\"zerolinewidth\":2},\"scene\":{\"xaxis\":{\"backgroundcolor\":\"#E5ECF6\",\"gridcolor\":\"white\",\"linecolor\":\"white\",\"showbackground\":true,\"ticks\":\"\",\"zerolinecolor\":\"white\",\"gridwidth\":2},\"yaxis\":{\"backgroundcolor\":\"#E5ECF6\",\"gridcolor\":\"white\",\"linecolor\":\"white\",\"showbackground\":true,\"ticks\":\"\",\"zerolinecolor\":\"white\",\"gridwidth\":2},\"zaxis\":{\"backgroundcolor\":\"#E5ECF6\",\"gridcolor\":\"white\",\"linecolor\":\"white\",\"showbackground\":true,\"ticks\":\"\",\"zerolinecolor\":\"white\",\"gridwidth\":2}},\"shapedefaults\":{\"line\":{\"color\":\"#2a3f5f\"}},\"annotationdefaults\":{\"arrowcolor\":\"#2a3f5f\",\"arrowhead\":0,\"arrowwidth\":1},\"geo\":{\"bgcolor\":\"white\",\"landcolor\":\"#E5ECF6\",\"subunitcolor\":\"white\",\"showland\":true,\"showlakes\":true,\"lakecolor\":\"white\"},\"title\":{\"x\":0.05},\"mapbox\":{\"style\":\"light\"}}},\"xaxis\":{\"anchor\":\"y\",\"domain\":[0.0,0.98],\"title\":{\"text\":\"date\"}},\"yaxis\":{\"anchor\":\"x\",\"domain\":[0.0,0.2275],\"title\":{\"text\":\"proportion_flew\"}},\"xaxis2\":{\"anchor\":\"y2\",\"domain\":[0.0,0.98],\"matches\":\"x\",\"showticklabels\":false},\"yaxis2\":{\"anchor\":\"x2\",\"domain\":[0.2575,0.485],\"matches\":\"y\",\"title\":{\"text\":\"proportion_flew\"}},\"xaxis3\":{\"anchor\":\"y3\",\"domain\":[0.0,0.98],\"matches\":\"x\",\"showticklabels\":false},\"yaxis3\":{\"anchor\":\"x3\",\"domain\":[0.515,0.7425],\"matches\":\"y\",\"title\":{\"text\":\"proportion_flew\"}},\"xaxis4\":{\"anchor\":\"y4\",\"domain\":[0.0,0.98],\"matches\":\"x\",\"showticklabels\":false},\"yaxis4\":{\"anchor\":\"x4\",\"domain\":[0.7725,1.0],\"matches\":\"y\",\"title\":{\"text\":\"proportion_flew\"}},\"annotations\":[{\"showarrow\":false,\"text\":\"Group=D\",\"textangle\":90,\"x\":0.98,\"xanchor\":\"left\",\"xref\":\"paper\",\"y\":0.11375,\"yanchor\":\"middle\",\"yref\":\"paper\"},{\"showarrow\":false,\"text\":\"Group=C\",\"textangle\":90,\"x\":0.98,\"xanchor\":\"left\",\"xref\":\"paper\",\"y\":0.37124999999999997,\"yanchor\":\"middle\",\"yref\":\"paper\"},{\"showarrow\":false,\"text\":\"Group=B\",\"textangle\":90,\"x\":0.98,\"xanchor\":\"left\",\"xref\":\"paper\",\"y\":0.62875,\"yanchor\":\"middle\",\"yref\":\"paper\"},{\"showarrow\":false,\"text\":\"Group=A\",\"textangle\":90,\"x\":0.98,\"xanchor\":\"left\",\"xref\":\"paper\",\"y\":0.88625,\"yanchor\":\"middle\",\"yref\":\"paper\"},{\"showarrow\":false,\"text\":\"food<br>+virus\",\"x\":1678003200000.0,\"xanchor\":\"left\",\"xref\":\"x\",\"y\":1,\"yanchor\":\"top\",\"yref\":\"y domain\"},{\"showarrow\":false,\"text\":\"food<br>+virus\",\"x\":1678003200000.0,\"xanchor\":\"left\",\"xref\":\"x2\",\"y\":1,\"yanchor\":\"top\",\"yref\":\"y2 domain\"},{\"showarrow\":false,\"text\":\"food\",\"x\":1677916800000.0,\"xanchor\":\"left\",\"xref\":\"x3\",\"y\":1,\"yanchor\":\"top\",\"yref\":\"y3 domain\"},{\"showarrow\":false,\"text\":\"food\",\"x\":1677830400000.0,\"xanchor\":\"left\",\"xref\":\"x4\",\"y\":1,\"yanchor\":\"top\",\"yref\":\"y4 domain\"},{\"showarrow\":false,\"text\":\"food\",\"x\":1678694400000.0,\"xanchor\":\"left\",\"xref\":\"x\",\"y\":1,\"yanchor\":\"top\",\"yref\":\"y domain\"},{\"showarrow\":false,\"text\":\"food\",\"x\":1678694400000.0,\"xanchor\":\"left\",\"xref\":\"x2\",\"y\":1,\"yanchor\":\"top\",\"yref\":\"y2 domain\"},{\"showarrow\":false,\"text\":\"food\",\"x\":1678694400000.0,\"xanchor\":\"left\",\"xref\":\"x3\",\"y\":1,\"yanchor\":\"top\",\"yref\":\"y3 domain\"},{\"showarrow\":false,\"text\":\"food\",\"x\":1678694400000.0,\"xanchor\":\"left\",\"xref\":\"x4\",\"y\":1,\"yanchor\":\"top\",\"yref\":\"y4 domain\"}],\"legend\":{\"title\":{\"text\":\"Group\"},\"tracegroupgap\":0},\"margin\":{\"t\":60},\"barmode\":\"relative\",\"showlegend\":false,\"width\":1000,\"height\":1000,\"shapes\":[{\"line\":{\"dash\":\"dot\"},\"type\":\"line\",\"x0\":1678003200000.0,\"x1\":1678003200000.0,\"xref\":\"x\",\"y0\":0,\"y1\":1,\"yref\":\"y domain\"},{\"line\":{\"dash\":\"dot\"},\"type\":\"line\",\"x0\":1678003200000.0,\"x1\":1678003200000.0,\"xref\":\"x2\",\"y0\":0,\"y1\":1,\"yref\":\"y2 domain\"},{\"line\":{\"dash\":\"dot\"},\"type\":\"line\",\"x0\":1677916800000.0,\"x1\":1677916800000.0,\"xref\":\"x3\",\"y0\":0,\"y1\":1,\"yref\":\"y3 domain\"},{\"line\":{\"dash\":\"dot\"},\"type\":\"line\",\"x0\":1677830400000.0,\"x1\":1677830400000.0,\"xref\":\"x4\",\"y0\":0,\"y1\":1,\"yref\":\"y4 domain\"},{\"line\":{\"dash\":\"dot\"},\"type\":\"line\",\"x0\":1678694400000.0,\"x1\":1678694400000.0,\"xref\":\"x\",\"y0\":0,\"y1\":1,\"yref\":\"y domain\"},{\"line\":{\"dash\":\"dot\"},\"type\":\"line\",\"x0\":1678694400000.0,\"x1\":1678694400000.0,\"xref\":\"x2\",\"y0\":0,\"y1\":1,\"yref\":\"y2 domain\"},{\"line\":{\"dash\":\"dot\"},\"type\":\"line\",\"x0\":1678694400000.0,\"x1\":1678694400000.0,\"xref\":\"x3\",\"y0\":0,\"y1\":1,\"yref\":\"y3 domain\"},{\"line\":{\"dash\":\"dot\"},\"type\":\"line\",\"x0\":1678694400000.0,\"x1\":1678694400000.0,\"xref\":\"x4\",\"y0\":0,\"y1\":1,\"yref\":\"y4 domain\"}]},                        {\"responsive\": true}                    ).then(function(){\n",
       "                            \n",
       "var gd = document.getElementById('de7f5a53-ffa6-4d89-8a73-b6e2af72dd30');\n",
       "var x = new MutationObserver(function (mutations, observer) {{\n",
       "        var display = window.getComputedStyle(gd).display;\n",
       "        if (!display || display === 'none') {{\n",
       "            console.log([gd, 'removed!']);\n",
       "            Plotly.purge(gd);\n",
       "            observer.disconnect();\n",
       "        }}\n",
       "}});\n",
       "\n",
       "// Listen for the removal of the full notebook cells\n",
       "var notebookContainer = gd.closest('#notebook-container');\n",
       "if (notebookContainer) {{\n",
       "    x.observe(notebookContainer, {childList: true});\n",
       "}}\n",
       "\n",
       "// Listen for the clearing of the current output cell\n",
       "var outputEl = gd.closest('.output');\n",
       "if (outputEl) {{\n",
       "    x.observe(outputEl, {childList: true});\n",
       "}}\n",
       "\n",
       "                        })                };                });            </script>        </div>"
      ]
     },
     "metadata": {},
     "output_type": "display_data"
    }
   ],
   "source": [
    "df = gb.reset_index().rename(columns={0:'proportion_flew'})\n",
    "fig = px.bar(df, x='date', y='proportion_flew', facet_row='Group', color='Group', color_discrete_sequence=['green','green','red','red'])\n",
    "\n",
    "fig.update_layout(showlegend=False, width=1000, height=1000)\n",
    "\n",
    "fig.add_vline(x=pd.to_datetime('2023-03-05 08').timestamp()*1000, line_dash=\"dot\", row=1, col=1, annotation_text=\"food<br>+virus\", annotation_position=\"top right\")\n",
    "fig.add_vline(x=pd.to_datetime('2023-03-05 08').timestamp()*1000, line_dash=\"dot\", row=2, col=1, annotation_text=\"food<br>+virus\", annotation_position=\"top right\")\n",
    "fig.add_vline(x=pd.to_datetime('2023-03-04 08').timestamp()*1000, line_dash=\"dot\", row=3, col=1, annotation_text=\"food\", annotation_position=\"top right\")\n",
    "fig.add_vline(x=pd.to_datetime('2023-03-03 08').timestamp()*1000, line_dash=\"dot\", row=4, col=1, annotation_text=\"food\", annotation_position=\"top right\")\n",
    "\n",
    "fig.add_vline(x=pd.to_datetime('2023-03-13 08').timestamp()*1000, line_dash=\"dot\", row=\"all\", col=1, annotation_text=\"food\", annotation_position=\"top right\")\n",
    "   \n",
    "fig.write_html(\"results-plot.html\")\n",
    "fig.write_image(\"results-plot.png\")\n",
    "\n",
    "fig.show()"
   ]
  },
  {
   "cell_type": "code",
   "execution_count": null,
   "id": "9a7336da-3042-46f4-84fc-706685e010b2",
   "metadata": {},
   "outputs": [],
   "source": []
  }
 ],
 "metadata": {
  "kernelspec": {
   "display_name": "Python 3 (ipykernel)",
   "language": "python",
   "name": "python3"
  },
  "language_info": {
   "codemirror_mode": {
    "name": "ipython",
    "version": 3
   },
   "file_extension": ".py",
   "mimetype": "text/x-python",
   "name": "python",
   "nbconvert_exporter": "python",
   "pygments_lexer": "ipython3",
   "version": "3.9.5"
  }
 },
 "nbformat": 4,
 "nbformat_minor": 5
}
