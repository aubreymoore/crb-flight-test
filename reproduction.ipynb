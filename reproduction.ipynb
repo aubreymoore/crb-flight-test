{
 "cells": [
  {
   "cell_type": "code",
   "execution_count": 110,
   "id": "b11dad03-0b94-4aea-a392-1a78adb3d48e",
   "metadata": {},
   "outputs": [],
   "source": [
    "import pandas as pd\n",
    "import plotly.express as px"
   ]
  },
  {
   "cell_type": "code",
   "execution_count": 111,
   "id": "f85b1966-2c3c-44f0-b754-956ddcd9757e",
   "metadata": {},
   "outputs": [
    {
     "data": {
      "text/html": [
       "<div>\n",
       "<style scoped>\n",
       "    .dataframe tbody tr th:only-of-type {\n",
       "        vertical-align: middle;\n",
       "    }\n",
       "\n",
       "    .dataframe tbody tr th {\n",
       "        vertical-align: top;\n",
       "    }\n",
       "\n",
       "    .dataframe thead th {\n",
       "        text-align: right;\n",
       "    }\n",
       "</style>\n",
       "<table border=\"1\" class=\"dataframe\">\n",
       "  <thead>\n",
       "    <tr style=\"text-align: right;\">\n",
       "      <th></th>\n",
       "      <th>ID</th>\n",
       "      <th>Group</th>\n",
       "      <th>Sex</th>\n",
       "      <th>date treated</th>\n",
       "      <th>date dead</th>\n",
       "      <th>OrNV detected</th>\n",
       "      <th>Notes</th>\n",
       "    </tr>\n",
       "  </thead>\n",
       "  <tbody>\n",
       "    <tr>\n",
       "      <th>0</th>\n",
       "      <td>1</td>\n",
       "      <td>A</td>\n",
       "      <td>F</td>\n",
       "      <td>2023-03-06</td>\n",
       "      <td>2023-04-10</td>\n",
       "      <td>NaN</td>\n",
       "      <td>NaN</td>\n",
       "    </tr>\n",
       "    <tr>\n",
       "      <th>1</th>\n",
       "      <td>2</td>\n",
       "      <td>A</td>\n",
       "      <td>M</td>\n",
       "      <td>2023-03-06</td>\n",
       "      <td>2023-03-27</td>\n",
       "      <td>NaN</td>\n",
       "      <td>NaN</td>\n",
       "    </tr>\n",
       "    <tr>\n",
       "      <th>2</th>\n",
       "      <td>3</td>\n",
       "      <td>A</td>\n",
       "      <td>F</td>\n",
       "      <td>2023-03-06</td>\n",
       "      <td>2023-04-17</td>\n",
       "      <td>NaN</td>\n",
       "      <td>NaN</td>\n",
       "    </tr>\n",
       "    <tr>\n",
       "      <th>3</th>\n",
       "      <td>4</td>\n",
       "      <td>A</td>\n",
       "      <td>M</td>\n",
       "      <td>2023-03-06</td>\n",
       "      <td>2023-03-26</td>\n",
       "      <td>NaN</td>\n",
       "      <td>NaN</td>\n",
       "    </tr>\n",
       "    <tr>\n",
       "      <th>4</th>\n",
       "      <td>5</td>\n",
       "      <td>A</td>\n",
       "      <td>F</td>\n",
       "      <td>2023-03-06</td>\n",
       "      <td>NaN</td>\n",
       "      <td>NaN</td>\n",
       "      <td>alive at end of expt</td>\n",
       "    </tr>\n",
       "    <tr>\n",
       "      <th>...</th>\n",
       "      <td>...</td>\n",
       "      <td>...</td>\n",
       "      <td>...</td>\n",
       "      <td>...</td>\n",
       "      <td>...</td>\n",
       "      <td>...</td>\n",
       "      <td>...</td>\n",
       "    </tr>\n",
       "    <tr>\n",
       "      <th>103</th>\n",
       "      <td>110</td>\n",
       "      <td>D</td>\n",
       "      <td>M</td>\n",
       "      <td>2023-03-06</td>\n",
       "      <td>2023-03-01</td>\n",
       "      <td>NaN</td>\n",
       "      <td>NaN</td>\n",
       "    </tr>\n",
       "    <tr>\n",
       "      <th>104</th>\n",
       "      <td>112</td>\n",
       "      <td>D</td>\n",
       "      <td>M</td>\n",
       "      <td>2023-03-06</td>\n",
       "      <td>2023-03-27</td>\n",
       "      <td>NaN</td>\n",
       "      <td>NaN</td>\n",
       "    </tr>\n",
       "    <tr>\n",
       "      <th>105</th>\n",
       "      <td>113</td>\n",
       "      <td>D</td>\n",
       "      <td>F</td>\n",
       "      <td>2023-03-06</td>\n",
       "      <td>2023-03-26</td>\n",
       "      <td>NaN</td>\n",
       "      <td>NaN</td>\n",
       "    </tr>\n",
       "    <tr>\n",
       "      <th>106</th>\n",
       "      <td>114</td>\n",
       "      <td>D</td>\n",
       "      <td>M</td>\n",
       "      <td>2023-03-06</td>\n",
       "      <td>2023-04-12</td>\n",
       "      <td>NaN</td>\n",
       "      <td>NaN</td>\n",
       "    </tr>\n",
       "    <tr>\n",
       "      <th>107</th>\n",
       "      <td>115</td>\n",
       "      <td>D</td>\n",
       "      <td>F</td>\n",
       "      <td>2023-03-06</td>\n",
       "      <td>NaN</td>\n",
       "      <td>NaN</td>\n",
       "      <td>alive at end of expt</td>\n",
       "    </tr>\n",
       "  </tbody>\n",
       "</table>\n",
       "<p>108 rows × 7 columns</p>\n",
       "</div>"
      ],
      "text/plain": [
       "      ID Group Sex date treated   date dead  OrNV detected  \\\n",
       "0      1     A   F   2023-03-06  2023-04-10            NaN   \n",
       "1      2     A   M   2023-03-06  2023-03-27            NaN   \n",
       "2      3     A   F   2023-03-06  2023-04-17            NaN   \n",
       "3      4     A   M   2023-03-06  2023-03-26            NaN   \n",
       "4      5     A   F   2023-03-06         NaN            NaN   \n",
       "..   ...   ...  ..          ...         ...            ...   \n",
       "103  110     D   M   2023-03-06  2023-03-01            NaN   \n",
       "104  112     D   M   2023-03-06  2023-03-27            NaN   \n",
       "105  113     D   F   2023-03-06  2023-03-26            NaN   \n",
       "106  114     D   M   2023-03-06  2023-04-12            NaN   \n",
       "107  115     D   F   2023-03-06         NaN            NaN   \n",
       "\n",
       "                    Notes  \n",
       "0                     NaN  \n",
       "1                     NaN  \n",
       "2                     NaN  \n",
       "3                     NaN  \n",
       "4    alive at end of expt  \n",
       "..                    ...  \n",
       "103                   NaN  \n",
       "104                   NaN  \n",
       "105                   NaN  \n",
       "106                   NaN  \n",
       "107  alive at end of expt  \n",
       "\n",
       "[108 rows x 7 columns]"
      ]
     },
     "execution_count": 111,
     "metadata": {},
     "output_type": "execute_result"
    }
   ],
   "source": [
    "df_beetles = pd.read_csv('beetles.csv')\n",
    "df_beetles"
   ]
  },
  {
   "cell_type": "code",
   "execution_count": 112,
   "id": "81a6c4cd-9a05-4150-913d-33bbb4500854",
   "metadata": {},
   "outputs": [
    {
     "data": {
      "text/html": [
       "<div>\n",
       "<style scoped>\n",
       "    .dataframe tbody tr th:only-of-type {\n",
       "        vertical-align: middle;\n",
       "    }\n",
       "\n",
       "    .dataframe tbody tr th {\n",
       "        vertical-align: top;\n",
       "    }\n",
       "\n",
       "    .dataframe thead th {\n",
       "        text-align: right;\n",
       "    }\n",
       "</style>\n",
       "<table border=\"1\" class=\"dataframe\">\n",
       "  <thead>\n",
       "    <tr style=\"text-align: right;\">\n",
       "      <th></th>\n",
       "      <th>ID</th>\n",
       "      <th>date</th>\n",
       "      <th>obs</th>\n",
       "    </tr>\n",
       "  </thead>\n",
       "  <tbody>\n",
       "    <tr>\n",
       "      <th>0</th>\n",
       "      <td>1</td>\n",
       "      <td>2023-02-28</td>\n",
       "      <td>N</td>\n",
       "    </tr>\n",
       "    <tr>\n",
       "      <th>1</th>\n",
       "      <td>2</td>\n",
       "      <td>2023-02-28</td>\n",
       "      <td>N</td>\n",
       "    </tr>\n",
       "    <tr>\n",
       "      <th>2</th>\n",
       "      <td>3</td>\n",
       "      <td>2023-02-28</td>\n",
       "      <td>N</td>\n",
       "    </tr>\n",
       "    <tr>\n",
       "      <th>3</th>\n",
       "      <td>4</td>\n",
       "      <td>2023-02-28</td>\n",
       "      <td>N</td>\n",
       "    </tr>\n",
       "    <tr>\n",
       "      <th>4</th>\n",
       "      <td>5</td>\n",
       "      <td>2023-02-28</td>\n",
       "      <td>N</td>\n",
       "    </tr>\n",
       "    <tr>\n",
       "      <th>...</th>\n",
       "      <td>...</td>\n",
       "      <td>...</td>\n",
       "      <td>...</td>\n",
       "    </tr>\n",
       "    <tr>\n",
       "      <th>5630</th>\n",
       "      <td>111</td>\n",
       "      <td>2023-04-17</td>\n",
       "      <td>N</td>\n",
       "    </tr>\n",
       "    <tr>\n",
       "      <th>5631</th>\n",
       "      <td>112</td>\n",
       "      <td>2023-04-17</td>\n",
       "      <td>NaN</td>\n",
       "    </tr>\n",
       "    <tr>\n",
       "      <th>5632</th>\n",
       "      <td>113</td>\n",
       "      <td>2023-04-17</td>\n",
       "      <td>NaN</td>\n",
       "    </tr>\n",
       "    <tr>\n",
       "      <th>5633</th>\n",
       "      <td>114</td>\n",
       "      <td>2023-04-17</td>\n",
       "      <td>NaN</td>\n",
       "    </tr>\n",
       "    <tr>\n",
       "      <th>5634</th>\n",
       "      <td>115</td>\n",
       "      <td>2023-04-17</td>\n",
       "      <td>N</td>\n",
       "    </tr>\n",
       "  </tbody>\n",
       "</table>\n",
       "<p>5635 rows × 3 columns</p>\n",
       "</div>"
      ],
      "text/plain": [
       "       ID        date  obs\n",
       "0       1  2023-02-28    N\n",
       "1       2  2023-02-28    N\n",
       "2       3  2023-02-28    N\n",
       "3       4  2023-02-28    N\n",
       "4       5  2023-02-28    N\n",
       "...   ...         ...  ...\n",
       "5630  111  2023-04-17    N\n",
       "5631  112  2023-04-17  NaN\n",
       "5632  113  2023-04-17  NaN\n",
       "5633  114  2023-04-17  NaN\n",
       "5634  115  2023-04-17    N\n",
       "\n",
       "[5635 rows x 3 columns]"
      ]
     },
     "execution_count": 112,
     "metadata": {},
     "output_type": "execute_result"
    }
   ],
   "source": [
    "df_observations = pd.read_csv('observations.csv')\n",
    "df_observations"
   ]
  },
  {
   "cell_type": "code",
   "execution_count": 113,
   "id": "ca05a92e-9e3a-41f7-99c2-1fcf87dea2d2",
   "metadata": {},
   "outputs": [
    {
     "data": {
      "text/html": [
       "<div>\n",
       "<style scoped>\n",
       "    .dataframe tbody tr th:only-of-type {\n",
       "        vertical-align: middle;\n",
       "    }\n",
       "\n",
       "    .dataframe tbody tr th {\n",
       "        vertical-align: top;\n",
       "    }\n",
       "\n",
       "    .dataframe thead th {\n",
       "        text-align: right;\n",
       "    }\n",
       "</style>\n",
       "<table border=\"1\" class=\"dataframe\">\n",
       "  <thead>\n",
       "    <tr style=\"text-align: right;\">\n",
       "      <th></th>\n",
       "      <th>group</th>\n",
       "      <th>oviposition_starts</th>\n",
       "      <th>oviposition_ends</th>\n",
       "      <th>date checked</th>\n",
       "      <th>larvae</th>\n",
       "    </tr>\n",
       "  </thead>\n",
       "  <tbody>\n",
       "    <tr>\n",
       "      <th>0</th>\n",
       "      <td>A</td>\n",
       "      <td>2023-03-06</td>\n",
       "      <td>2023-03-13</td>\n",
       "      <td>2023-04-03</td>\n",
       "      <td>1</td>\n",
       "    </tr>\n",
       "    <tr>\n",
       "      <th>1</th>\n",
       "      <td>B</td>\n",
       "      <td>2023-03-06</td>\n",
       "      <td>2023-03-13</td>\n",
       "      <td>2023-04-03</td>\n",
       "      <td>12</td>\n",
       "    </tr>\n",
       "    <tr>\n",
       "      <th>2</th>\n",
       "      <td>C</td>\n",
       "      <td>2023-03-06</td>\n",
       "      <td>2023-03-13</td>\n",
       "      <td>2023-04-03</td>\n",
       "      <td>6</td>\n",
       "    </tr>\n",
       "    <tr>\n",
       "      <th>3</th>\n",
       "      <td>D</td>\n",
       "      <td>2023-03-06</td>\n",
       "      <td>2023-03-13</td>\n",
       "      <td>2023-04-03</td>\n",
       "      <td>1</td>\n",
       "    </tr>\n",
       "    <tr>\n",
       "      <th>4</th>\n",
       "      <td>A</td>\n",
       "      <td>2023-03-13</td>\n",
       "      <td>2023-03-20</td>\n",
       "      <td>2023-04-10</td>\n",
       "      <td>4</td>\n",
       "    </tr>\n",
       "    <tr>\n",
       "      <th>5</th>\n",
       "      <td>B</td>\n",
       "      <td>2023-03-13</td>\n",
       "      <td>2023-03-20</td>\n",
       "      <td>2023-04-10</td>\n",
       "      <td>5</td>\n",
       "    </tr>\n",
       "    <tr>\n",
       "      <th>6</th>\n",
       "      <td>C</td>\n",
       "      <td>2023-03-13</td>\n",
       "      <td>2023-03-20</td>\n",
       "      <td>2023-04-10</td>\n",
       "      <td>7</td>\n",
       "    </tr>\n",
       "    <tr>\n",
       "      <th>7</th>\n",
       "      <td>D</td>\n",
       "      <td>2023-03-13</td>\n",
       "      <td>2023-03-20</td>\n",
       "      <td>2023-04-10</td>\n",
       "      <td>1</td>\n",
       "    </tr>\n",
       "    <tr>\n",
       "      <th>8</th>\n",
       "      <td>A</td>\n",
       "      <td>2023-03-20</td>\n",
       "      <td>2023-03-27</td>\n",
       "      <td>2023-04-17</td>\n",
       "      <td>5</td>\n",
       "    </tr>\n",
       "    <tr>\n",
       "      <th>9</th>\n",
       "      <td>B</td>\n",
       "      <td>2023-03-20</td>\n",
       "      <td>2023-03-27</td>\n",
       "      <td>2023-04-17</td>\n",
       "      <td>7</td>\n",
       "    </tr>\n",
       "    <tr>\n",
       "      <th>10</th>\n",
       "      <td>C</td>\n",
       "      <td>2023-03-20</td>\n",
       "      <td>2023-03-27</td>\n",
       "      <td>2023-04-17</td>\n",
       "      <td>4</td>\n",
       "    </tr>\n",
       "    <tr>\n",
       "      <th>11</th>\n",
       "      <td>D</td>\n",
       "      <td>2023-03-20</td>\n",
       "      <td>2023-03-27</td>\n",
       "      <td>2023-04-17</td>\n",
       "      <td>10</td>\n",
       "    </tr>\n",
       "    <tr>\n",
       "      <th>12</th>\n",
       "      <td>A</td>\n",
       "      <td>2023-03-27</td>\n",
       "      <td>2023-04-03</td>\n",
       "      <td>2023-04-24</td>\n",
       "      <td>12</td>\n",
       "    </tr>\n",
       "    <tr>\n",
       "      <th>13</th>\n",
       "      <td>B</td>\n",
       "      <td>2023-03-27</td>\n",
       "      <td>2023-04-03</td>\n",
       "      <td>2023-04-24</td>\n",
       "      <td>3</td>\n",
       "    </tr>\n",
       "    <tr>\n",
       "      <th>14</th>\n",
       "      <td>C</td>\n",
       "      <td>2023-03-27</td>\n",
       "      <td>2023-04-03</td>\n",
       "      <td>2023-04-24</td>\n",
       "      <td>0</td>\n",
       "    </tr>\n",
       "    <tr>\n",
       "      <th>15</th>\n",
       "      <td>D</td>\n",
       "      <td>2023-03-27</td>\n",
       "      <td>2023-04-03</td>\n",
       "      <td>2023-04-24</td>\n",
       "      <td>2</td>\n",
       "    </tr>\n",
       "  </tbody>\n",
       "</table>\n",
       "</div>"
      ],
      "text/plain": [
       "   group oviposition_starts oviposition_ends date checked  larvae\n",
       "0      A         2023-03-06       2023-03-13   2023-04-03       1\n",
       "1      B         2023-03-06       2023-03-13   2023-04-03      12\n",
       "2      C         2023-03-06       2023-03-13   2023-04-03       6\n",
       "3      D         2023-03-06       2023-03-13   2023-04-03       1\n",
       "4      A         2023-03-13       2023-03-20   2023-04-10       4\n",
       "5      B         2023-03-13       2023-03-20   2023-04-10       5\n",
       "6      C         2023-03-13       2023-03-20   2023-04-10       7\n",
       "7      D         2023-03-13       2023-03-20   2023-04-10       1\n",
       "8      A         2023-03-20       2023-03-27   2023-04-17       5\n",
       "9      B         2023-03-20       2023-03-27   2023-04-17       7\n",
       "10     C         2023-03-20       2023-03-27   2023-04-17       4\n",
       "11     D         2023-03-20       2023-03-27   2023-04-17      10\n",
       "12     A         2023-03-27       2023-04-03   2023-04-24      12\n",
       "13     B         2023-03-27       2023-04-03   2023-04-24       3\n",
       "14     C         2023-03-27       2023-04-03   2023-04-24       0\n",
       "15     D         2023-03-27       2023-04-03   2023-04-24       2"
      ]
     },
     "execution_count": 113,
     "metadata": {},
     "output_type": "execute_result"
    }
   ],
   "source": [
    "df_larvae = pd.read_csv('larvae.csv', parse_dates=['oviposition_starts','oviposition_ends','date checked'])\n",
    "df_larvae"
   ]
  },
  {
   "cell_type": "code",
   "execution_count": 114,
   "id": "ec04d63c-4d39-4bd2-99eb-23fef7fd67a0",
   "metadata": {},
   "outputs": [],
   "source": [
    "def calc_female_days(row):\n",
    "    df = df_beetles.merge(df_observations, on='ID')\n",
    "    df = df.query('Sex == \"F\"')\n",
    "    df = df.query(f'Group == \"{row.group}\"')\n",
    "    df = df.query(f'date >= \"{row.oviposition_starts}\"')\n",
    "    df = df.query(f'date <= \"{row.oviposition_ends}\"')\n",
    "    df = df.query('obs == obs') # Exclude rows where obs is NaN\n",
    "    return df.shape[0]"
   ]
  },
  {
   "cell_type": "code",
   "execution_count": 115,
   "id": "01178a06-c1c4-4d7f-b2d5-312ccc2d1df8",
   "metadata": {},
   "outputs": [
    {
     "data": {
      "text/html": [
       "<div>\n",
       "<style scoped>\n",
       "    .dataframe tbody tr th:only-of-type {\n",
       "        vertical-align: middle;\n",
       "    }\n",
       "\n",
       "    .dataframe tbody tr th {\n",
       "        vertical-align: top;\n",
       "    }\n",
       "\n",
       "    .dataframe thead th {\n",
       "        text-align: right;\n",
       "    }\n",
       "</style>\n",
       "<table border=\"1\" class=\"dataframe\">\n",
       "  <thead>\n",
       "    <tr style=\"text-align: right;\">\n",
       "      <th></th>\n",
       "      <th>group</th>\n",
       "      <th>oviposition_starts</th>\n",
       "      <th>oviposition_ends</th>\n",
       "      <th>date checked</th>\n",
       "      <th>larvae</th>\n",
       "      <th>female_days</th>\n",
       "      <th>viable_eggs_per_day</th>\n",
       "      <th>midpoint</th>\n",
       "    </tr>\n",
       "  </thead>\n",
       "  <tbody>\n",
       "    <tr>\n",
       "      <th>0</th>\n",
       "      <td>A</td>\n",
       "      <td>2023-03-06</td>\n",
       "      <td>2023-03-13</td>\n",
       "      <td>2023-04-03</td>\n",
       "      <td>1</td>\n",
       "      <td>128</td>\n",
       "      <td>0.007812</td>\n",
       "      <td>2023-03-09 12:00:00</td>\n",
       "    </tr>\n",
       "    <tr>\n",
       "      <th>1</th>\n",
       "      <td>B</td>\n",
       "      <td>2023-03-06</td>\n",
       "      <td>2023-03-13</td>\n",
       "      <td>2023-04-03</td>\n",
       "      <td>12</td>\n",
       "      <td>123</td>\n",
       "      <td>0.097561</td>\n",
       "      <td>2023-03-09 12:00:00</td>\n",
       "    </tr>\n",
       "    <tr>\n",
       "      <th>2</th>\n",
       "      <td>C</td>\n",
       "      <td>2023-03-06</td>\n",
       "      <td>2023-03-13</td>\n",
       "      <td>2023-04-03</td>\n",
       "      <td>6</td>\n",
       "      <td>54</td>\n",
       "      <td>0.111111</td>\n",
       "      <td>2023-03-09 12:00:00</td>\n",
       "    </tr>\n",
       "    <tr>\n",
       "      <th>3</th>\n",
       "      <td>D</td>\n",
       "      <td>2023-03-06</td>\n",
       "      <td>2023-03-13</td>\n",
       "      <td>2023-04-03</td>\n",
       "      <td>1</td>\n",
       "      <td>109</td>\n",
       "      <td>0.009174</td>\n",
       "      <td>2023-03-09 12:00:00</td>\n",
       "    </tr>\n",
       "    <tr>\n",
       "      <th>4</th>\n",
       "      <td>A</td>\n",
       "      <td>2023-03-13</td>\n",
       "      <td>2023-03-20</td>\n",
       "      <td>2023-04-10</td>\n",
       "      <td>4</td>\n",
       "      <td>111</td>\n",
       "      <td>0.036036</td>\n",
       "      <td>2023-03-16 12:00:00</td>\n",
       "    </tr>\n",
       "    <tr>\n",
       "      <th>5</th>\n",
       "      <td>B</td>\n",
       "      <td>2023-03-13</td>\n",
       "      <td>2023-03-20</td>\n",
       "      <td>2023-04-10</td>\n",
       "      <td>5</td>\n",
       "      <td>122</td>\n",
       "      <td>0.040984</td>\n",
       "      <td>2023-03-16 12:00:00</td>\n",
       "    </tr>\n",
       "    <tr>\n",
       "      <th>6</th>\n",
       "      <td>C</td>\n",
       "      <td>2023-03-13</td>\n",
       "      <td>2023-03-20</td>\n",
       "      <td>2023-04-10</td>\n",
       "      <td>7</td>\n",
       "      <td>54</td>\n",
       "      <td>0.129630</td>\n",
       "      <td>2023-03-16 12:00:00</td>\n",
       "    </tr>\n",
       "    <tr>\n",
       "      <th>7</th>\n",
       "      <td>D</td>\n",
       "      <td>2023-03-13</td>\n",
       "      <td>2023-03-20</td>\n",
       "      <td>2023-04-10</td>\n",
       "      <td>1</td>\n",
       "      <td>109</td>\n",
       "      <td>0.009174</td>\n",
       "      <td>2023-03-16 12:00:00</td>\n",
       "    </tr>\n",
       "    <tr>\n",
       "      <th>8</th>\n",
       "      <td>A</td>\n",
       "      <td>2023-03-20</td>\n",
       "      <td>2023-03-27</td>\n",
       "      <td>2023-04-17</td>\n",
       "      <td>5</td>\n",
       "      <td>114</td>\n",
       "      <td>0.043860</td>\n",
       "      <td>2023-03-23 12:00:00</td>\n",
       "    </tr>\n",
       "    <tr>\n",
       "      <th>9</th>\n",
       "      <td>B</td>\n",
       "      <td>2023-03-20</td>\n",
       "      <td>2023-03-27</td>\n",
       "      <td>2023-04-17</td>\n",
       "      <td>7</td>\n",
       "      <td>126</td>\n",
       "      <td>0.055556</td>\n",
       "      <td>2023-03-23 12:00:00</td>\n",
       "    </tr>\n",
       "    <tr>\n",
       "      <th>10</th>\n",
       "      <td>C</td>\n",
       "      <td>2023-03-20</td>\n",
       "      <td>2023-03-27</td>\n",
       "      <td>2023-04-17</td>\n",
       "      <td>4</td>\n",
       "      <td>56</td>\n",
       "      <td>0.071429</td>\n",
       "      <td>2023-03-23 12:00:00</td>\n",
       "    </tr>\n",
       "    <tr>\n",
       "      <th>11</th>\n",
       "      <td>D</td>\n",
       "      <td>2023-03-20</td>\n",
       "      <td>2023-03-27</td>\n",
       "      <td>2023-04-17</td>\n",
       "      <td>10</td>\n",
       "      <td>110</td>\n",
       "      <td>0.090909</td>\n",
       "      <td>2023-03-23 12:00:00</td>\n",
       "    </tr>\n",
       "    <tr>\n",
       "      <th>12</th>\n",
       "      <td>A</td>\n",
       "      <td>2023-03-27</td>\n",
       "      <td>2023-04-03</td>\n",
       "      <td>2023-04-24</td>\n",
       "      <td>12</td>\n",
       "      <td>67</td>\n",
       "      <td>0.179104</td>\n",
       "      <td>2023-03-30 12:00:00</td>\n",
       "    </tr>\n",
       "    <tr>\n",
       "      <th>13</th>\n",
       "      <td>B</td>\n",
       "      <td>2023-03-27</td>\n",
       "      <td>2023-04-03</td>\n",
       "      <td>2023-04-24</td>\n",
       "      <td>3</td>\n",
       "      <td>72</td>\n",
       "      <td>0.041667</td>\n",
       "      <td>2023-03-30 12:00:00</td>\n",
       "    </tr>\n",
       "    <tr>\n",
       "      <th>14</th>\n",
       "      <td>C</td>\n",
       "      <td>2023-03-27</td>\n",
       "      <td>2023-04-03</td>\n",
       "      <td>2023-04-24</td>\n",
       "      <td>0</td>\n",
       "      <td>37</td>\n",
       "      <td>0.000000</td>\n",
       "      <td>2023-03-30 12:00:00</td>\n",
       "    </tr>\n",
       "    <tr>\n",
       "      <th>15</th>\n",
       "      <td>D</td>\n",
       "      <td>2023-03-27</td>\n",
       "      <td>2023-04-03</td>\n",
       "      <td>2023-04-24</td>\n",
       "      <td>2</td>\n",
       "      <td>71</td>\n",
       "      <td>0.028169</td>\n",
       "      <td>2023-03-30 12:00:00</td>\n",
       "    </tr>\n",
       "  </tbody>\n",
       "</table>\n",
       "</div>"
      ],
      "text/plain": [
       "   group oviposition_starts oviposition_ends date checked  larvae  \\\n",
       "0      A         2023-03-06       2023-03-13   2023-04-03       1   \n",
       "1      B         2023-03-06       2023-03-13   2023-04-03      12   \n",
       "2      C         2023-03-06       2023-03-13   2023-04-03       6   \n",
       "3      D         2023-03-06       2023-03-13   2023-04-03       1   \n",
       "4      A         2023-03-13       2023-03-20   2023-04-10       4   \n",
       "5      B         2023-03-13       2023-03-20   2023-04-10       5   \n",
       "6      C         2023-03-13       2023-03-20   2023-04-10       7   \n",
       "7      D         2023-03-13       2023-03-20   2023-04-10       1   \n",
       "8      A         2023-03-20       2023-03-27   2023-04-17       5   \n",
       "9      B         2023-03-20       2023-03-27   2023-04-17       7   \n",
       "10     C         2023-03-20       2023-03-27   2023-04-17       4   \n",
       "11     D         2023-03-20       2023-03-27   2023-04-17      10   \n",
       "12     A         2023-03-27       2023-04-03   2023-04-24      12   \n",
       "13     B         2023-03-27       2023-04-03   2023-04-24       3   \n",
       "14     C         2023-03-27       2023-04-03   2023-04-24       0   \n",
       "15     D         2023-03-27       2023-04-03   2023-04-24       2   \n",
       "\n",
       "    female_days  viable_eggs_per_day            midpoint  \n",
       "0           128             0.007812 2023-03-09 12:00:00  \n",
       "1           123             0.097561 2023-03-09 12:00:00  \n",
       "2            54             0.111111 2023-03-09 12:00:00  \n",
       "3           109             0.009174 2023-03-09 12:00:00  \n",
       "4           111             0.036036 2023-03-16 12:00:00  \n",
       "5           122             0.040984 2023-03-16 12:00:00  \n",
       "6            54             0.129630 2023-03-16 12:00:00  \n",
       "7           109             0.009174 2023-03-16 12:00:00  \n",
       "8           114             0.043860 2023-03-23 12:00:00  \n",
       "9           126             0.055556 2023-03-23 12:00:00  \n",
       "10           56             0.071429 2023-03-23 12:00:00  \n",
       "11          110             0.090909 2023-03-23 12:00:00  \n",
       "12           67             0.179104 2023-03-30 12:00:00  \n",
       "13           72             0.041667 2023-03-30 12:00:00  \n",
       "14           37             0.000000 2023-03-30 12:00:00  \n",
       "15           71             0.028169 2023-03-30 12:00:00  "
      ]
     },
     "execution_count": 115,
     "metadata": {},
     "output_type": "execute_result"
    }
   ],
   "source": [
    "df_larvae['female_days'] = df_larvae.apply(calc_female_days, axis=1)\n",
    "df_larvae['viable_eggs_per_day'] = df_larvae['larvae'] / df_larvae['female_days']\n",
    "a = df_larvae['oviposition_starts']\n",
    "b = df_larvae['oviposition_ends']\n",
    "df_larvae['midpoint'] = a + (b - a)/2\n",
    "df_larvae"
   ]
  },
  {
   "cell_type": "code",
   "execution_count": 119,
   "id": "b0a2205f-1e86-4a7c-a6d5-bf0f3f8abe6e",
   "metadata": {},
   "outputs": [
    {
     "data": {
      "application/vnd.plotly.v1+json": {
       "config": {
        "plotlyServerURL": "https://plot.ly"
       },
       "data": [
        {
         "hovertemplate": "group=A<br>midpoint=%{x}<br>viable_eggs_per_day=%{y}<extra></extra>",
         "legendgroup": "A",
         "line": {
          "color": "#636efa",
          "dash": "solid"
         },
         "marker": {
          "symbol": "circle"
         },
         "mode": "lines",
         "name": "A",
         "orientation": "v",
         "showlegend": true,
         "type": "scatter",
         "x": [
          "2023-03-09T12:00:00",
          "2023-03-16T12:00:00",
          "2023-03-23T12:00:00",
          "2023-03-30T12:00:00"
         ],
         "xaxis": "x",
         "y": [
          0.0078125,
          0.036036036036036036,
          0.043859649122807015,
          0.1791044776119403
         ],
         "yaxis": "y"
        },
        {
         "hovertemplate": "group=B<br>midpoint=%{x}<br>viable_eggs_per_day=%{y}<extra></extra>",
         "legendgroup": "B",
         "line": {
          "color": "#EF553B",
          "dash": "solid"
         },
         "marker": {
          "symbol": "circle"
         },
         "mode": "lines",
         "name": "B",
         "orientation": "v",
         "showlegend": true,
         "type": "scatter",
         "x": [
          "2023-03-09T12:00:00",
          "2023-03-16T12:00:00",
          "2023-03-23T12:00:00",
          "2023-03-30T12:00:00"
         ],
         "xaxis": "x",
         "y": [
          0.0975609756097561,
          0.040983606557377046,
          0.05555555555555555,
          0.041666666666666664
         ],
         "yaxis": "y"
        },
        {
         "hovertemplate": "group=C<br>midpoint=%{x}<br>viable_eggs_per_day=%{y}<extra></extra>",
         "legendgroup": "C",
         "line": {
          "color": "#00cc96",
          "dash": "solid"
         },
         "marker": {
          "symbol": "circle"
         },
         "mode": "lines",
         "name": "C",
         "orientation": "v",
         "showlegend": true,
         "type": "scatter",
         "x": [
          "2023-03-09T12:00:00",
          "2023-03-16T12:00:00",
          "2023-03-23T12:00:00",
          "2023-03-30T12:00:00"
         ],
         "xaxis": "x",
         "y": [
          0.1111111111111111,
          0.12962962962962962,
          0.07142857142857142,
          0
         ],
         "yaxis": "y"
        },
        {
         "hovertemplate": "group=D<br>midpoint=%{x}<br>viable_eggs_per_day=%{y}<extra></extra>",
         "legendgroup": "D",
         "line": {
          "color": "#ab63fa",
          "dash": "solid"
         },
         "marker": {
          "symbol": "circle"
         },
         "mode": "lines",
         "name": "D",
         "orientation": "v",
         "showlegend": true,
         "type": "scatter",
         "x": [
          "2023-03-09T12:00:00",
          "2023-03-16T12:00:00",
          "2023-03-23T12:00:00",
          "2023-03-30T12:00:00"
         ],
         "xaxis": "x",
         "y": [
          0.009174311926605505,
          0.009174311926605505,
          0.09090909090909091,
          0.028169014084507043
         ],
         "yaxis": "y"
        }
       ],
       "layout": {
        "autosize": true,
        "legend": {
         "title": {
          "text": "group"
         },
         "tracegroupgap": 0
        },
        "margin": {
         "t": 60
        },
        "template": {
         "data": {
          "bar": [
           {
            "error_x": {
             "color": "#2a3f5f"
            },
            "error_y": {
             "color": "#2a3f5f"
            },
            "marker": {
             "line": {
              "color": "#E5ECF6",
              "width": 0.5
             },
             "pattern": {
              "fillmode": "overlay",
              "size": 10,
              "solidity": 0.2
             }
            },
            "type": "bar"
           }
          ],
          "barpolar": [
           {
            "marker": {
             "line": {
              "color": "#E5ECF6",
              "width": 0.5
             },
             "pattern": {
              "fillmode": "overlay",
              "size": 10,
              "solidity": 0.2
             }
            },
            "type": "barpolar"
           }
          ],
          "carpet": [
           {
            "aaxis": {
             "endlinecolor": "#2a3f5f",
             "gridcolor": "white",
             "linecolor": "white",
             "minorgridcolor": "white",
             "startlinecolor": "#2a3f5f"
            },
            "baxis": {
             "endlinecolor": "#2a3f5f",
             "gridcolor": "white",
             "linecolor": "white",
             "minorgridcolor": "white",
             "startlinecolor": "#2a3f5f"
            },
            "type": "carpet"
           }
          ],
          "choropleth": [
           {
            "colorbar": {
             "outlinewidth": 0,
             "ticks": ""
            },
            "type": "choropleth"
           }
          ],
          "contour": [
           {
            "colorbar": {
             "outlinewidth": 0,
             "ticks": ""
            },
            "colorscale": [
             [
              0,
              "#0d0887"
             ],
             [
              0.1111111111111111,
              "#46039f"
             ],
             [
              0.2222222222222222,
              "#7201a8"
             ],
             [
              0.3333333333333333,
              "#9c179e"
             ],
             [
              0.4444444444444444,
              "#bd3786"
             ],
             [
              0.5555555555555556,
              "#d8576b"
             ],
             [
              0.6666666666666666,
              "#ed7953"
             ],
             [
              0.7777777777777778,
              "#fb9f3a"
             ],
             [
              0.8888888888888888,
              "#fdca26"
             ],
             [
              1,
              "#f0f921"
             ]
            ],
            "type": "contour"
           }
          ],
          "contourcarpet": [
           {
            "colorbar": {
             "outlinewidth": 0,
             "ticks": ""
            },
            "type": "contourcarpet"
           }
          ],
          "heatmap": [
           {
            "colorbar": {
             "outlinewidth": 0,
             "ticks": ""
            },
            "colorscale": [
             [
              0,
              "#0d0887"
             ],
             [
              0.1111111111111111,
              "#46039f"
             ],
             [
              0.2222222222222222,
              "#7201a8"
             ],
             [
              0.3333333333333333,
              "#9c179e"
             ],
             [
              0.4444444444444444,
              "#bd3786"
             ],
             [
              0.5555555555555556,
              "#d8576b"
             ],
             [
              0.6666666666666666,
              "#ed7953"
             ],
             [
              0.7777777777777778,
              "#fb9f3a"
             ],
             [
              0.8888888888888888,
              "#fdca26"
             ],
             [
              1,
              "#f0f921"
             ]
            ],
            "type": "heatmap"
           }
          ],
          "heatmapgl": [
           {
            "colorbar": {
             "outlinewidth": 0,
             "ticks": ""
            },
            "colorscale": [
             [
              0,
              "#0d0887"
             ],
             [
              0.1111111111111111,
              "#46039f"
             ],
             [
              0.2222222222222222,
              "#7201a8"
             ],
             [
              0.3333333333333333,
              "#9c179e"
             ],
             [
              0.4444444444444444,
              "#bd3786"
             ],
             [
              0.5555555555555556,
              "#d8576b"
             ],
             [
              0.6666666666666666,
              "#ed7953"
             ],
             [
              0.7777777777777778,
              "#fb9f3a"
             ],
             [
              0.8888888888888888,
              "#fdca26"
             ],
             [
              1,
              "#f0f921"
             ]
            ],
            "type": "heatmapgl"
           }
          ],
          "histogram": [
           {
            "marker": {
             "pattern": {
              "fillmode": "overlay",
              "size": 10,
              "solidity": 0.2
             }
            },
            "type": "histogram"
           }
          ],
          "histogram2d": [
           {
            "colorbar": {
             "outlinewidth": 0,
             "ticks": ""
            },
            "colorscale": [
             [
              0,
              "#0d0887"
             ],
             [
              0.1111111111111111,
              "#46039f"
             ],
             [
              0.2222222222222222,
              "#7201a8"
             ],
             [
              0.3333333333333333,
              "#9c179e"
             ],
             [
              0.4444444444444444,
              "#bd3786"
             ],
             [
              0.5555555555555556,
              "#d8576b"
             ],
             [
              0.6666666666666666,
              "#ed7953"
             ],
             [
              0.7777777777777778,
              "#fb9f3a"
             ],
             [
              0.8888888888888888,
              "#fdca26"
             ],
             [
              1,
              "#f0f921"
             ]
            ],
            "type": "histogram2d"
           }
          ],
          "histogram2dcontour": [
           {
            "colorbar": {
             "outlinewidth": 0,
             "ticks": ""
            },
            "colorscale": [
             [
              0,
              "#0d0887"
             ],
             [
              0.1111111111111111,
              "#46039f"
             ],
             [
              0.2222222222222222,
              "#7201a8"
             ],
             [
              0.3333333333333333,
              "#9c179e"
             ],
             [
              0.4444444444444444,
              "#bd3786"
             ],
             [
              0.5555555555555556,
              "#d8576b"
             ],
             [
              0.6666666666666666,
              "#ed7953"
             ],
             [
              0.7777777777777778,
              "#fb9f3a"
             ],
             [
              0.8888888888888888,
              "#fdca26"
             ],
             [
              1,
              "#f0f921"
             ]
            ],
            "type": "histogram2dcontour"
           }
          ],
          "mesh3d": [
           {
            "colorbar": {
             "outlinewidth": 0,
             "ticks": ""
            },
            "type": "mesh3d"
           }
          ],
          "parcoords": [
           {
            "line": {
             "colorbar": {
              "outlinewidth": 0,
              "ticks": ""
             }
            },
            "type": "parcoords"
           }
          ],
          "pie": [
           {
            "automargin": true,
            "type": "pie"
           }
          ],
          "scatter": [
           {
            "fillpattern": {
             "fillmode": "overlay",
             "size": 10,
             "solidity": 0.2
            },
            "type": "scatter"
           }
          ],
          "scatter3d": [
           {
            "line": {
             "colorbar": {
              "outlinewidth": 0,
              "ticks": ""
             }
            },
            "marker": {
             "colorbar": {
              "outlinewidth": 0,
              "ticks": ""
             }
            },
            "type": "scatter3d"
           }
          ],
          "scattercarpet": [
           {
            "marker": {
             "colorbar": {
              "outlinewidth": 0,
              "ticks": ""
             }
            },
            "type": "scattercarpet"
           }
          ],
          "scattergeo": [
           {
            "marker": {
             "colorbar": {
              "outlinewidth": 0,
              "ticks": ""
             }
            },
            "type": "scattergeo"
           }
          ],
          "scattergl": [
           {
            "marker": {
             "colorbar": {
              "outlinewidth": 0,
              "ticks": ""
             }
            },
            "type": "scattergl"
           }
          ],
          "scattermapbox": [
           {
            "marker": {
             "colorbar": {
              "outlinewidth": 0,
              "ticks": ""
             }
            },
            "type": "scattermapbox"
           }
          ],
          "scatterpolar": [
           {
            "marker": {
             "colorbar": {
              "outlinewidth": 0,
              "ticks": ""
             }
            },
            "type": "scatterpolar"
           }
          ],
          "scatterpolargl": [
           {
            "marker": {
             "colorbar": {
              "outlinewidth": 0,
              "ticks": ""
             }
            },
            "type": "scatterpolargl"
           }
          ],
          "scatterternary": [
           {
            "marker": {
             "colorbar": {
              "outlinewidth": 0,
              "ticks": ""
             }
            },
            "type": "scatterternary"
           }
          ],
          "surface": [
           {
            "colorbar": {
             "outlinewidth": 0,
             "ticks": ""
            },
            "colorscale": [
             [
              0,
              "#0d0887"
             ],
             [
              0.1111111111111111,
              "#46039f"
             ],
             [
              0.2222222222222222,
              "#7201a8"
             ],
             [
              0.3333333333333333,
              "#9c179e"
             ],
             [
              0.4444444444444444,
              "#bd3786"
             ],
             [
              0.5555555555555556,
              "#d8576b"
             ],
             [
              0.6666666666666666,
              "#ed7953"
             ],
             [
              0.7777777777777778,
              "#fb9f3a"
             ],
             [
              0.8888888888888888,
              "#fdca26"
             ],
             [
              1,
              "#f0f921"
             ]
            ],
            "type": "surface"
           }
          ],
          "table": [
           {
            "cells": {
             "fill": {
              "color": "#EBF0F8"
             },
             "line": {
              "color": "white"
             }
            },
            "header": {
             "fill": {
              "color": "#C8D4E3"
             },
             "line": {
              "color": "white"
             }
            },
            "type": "table"
           }
          ]
         },
         "layout": {
          "annotationdefaults": {
           "arrowcolor": "#2a3f5f",
           "arrowhead": 0,
           "arrowwidth": 1
          },
          "autotypenumbers": "strict",
          "coloraxis": {
           "colorbar": {
            "outlinewidth": 0,
            "ticks": ""
           }
          },
          "colorscale": {
           "diverging": [
            [
             0,
             "#8e0152"
            ],
            [
             0.1,
             "#c51b7d"
            ],
            [
             0.2,
             "#de77ae"
            ],
            [
             0.3,
             "#f1b6da"
            ],
            [
             0.4,
             "#fde0ef"
            ],
            [
             0.5,
             "#f7f7f7"
            ],
            [
             0.6,
             "#e6f5d0"
            ],
            [
             0.7,
             "#b8e186"
            ],
            [
             0.8,
             "#7fbc41"
            ],
            [
             0.9,
             "#4d9221"
            ],
            [
             1,
             "#276419"
            ]
           ],
           "sequential": [
            [
             0,
             "#0d0887"
            ],
            [
             0.1111111111111111,
             "#46039f"
            ],
            [
             0.2222222222222222,
             "#7201a8"
            ],
            [
             0.3333333333333333,
             "#9c179e"
            ],
            [
             0.4444444444444444,
             "#bd3786"
            ],
            [
             0.5555555555555556,
             "#d8576b"
            ],
            [
             0.6666666666666666,
             "#ed7953"
            ],
            [
             0.7777777777777778,
             "#fb9f3a"
            ],
            [
             0.8888888888888888,
             "#fdca26"
            ],
            [
             1,
             "#f0f921"
            ]
           ],
           "sequentialminus": [
            [
             0,
             "#0d0887"
            ],
            [
             0.1111111111111111,
             "#46039f"
            ],
            [
             0.2222222222222222,
             "#7201a8"
            ],
            [
             0.3333333333333333,
             "#9c179e"
            ],
            [
             0.4444444444444444,
             "#bd3786"
            ],
            [
             0.5555555555555556,
             "#d8576b"
            ],
            [
             0.6666666666666666,
             "#ed7953"
            ],
            [
             0.7777777777777778,
             "#fb9f3a"
            ],
            [
             0.8888888888888888,
             "#fdca26"
            ],
            [
             1,
             "#f0f921"
            ]
           ]
          },
          "colorway": [
           "#636efa",
           "#EF553B",
           "#00cc96",
           "#ab63fa",
           "#FFA15A",
           "#19d3f3",
           "#FF6692",
           "#B6E880",
           "#FF97FF",
           "#FECB52"
          ],
          "font": {
           "color": "#2a3f5f"
          },
          "geo": {
           "bgcolor": "white",
           "lakecolor": "white",
           "landcolor": "#E5ECF6",
           "showlakes": true,
           "showland": true,
           "subunitcolor": "white"
          },
          "hoverlabel": {
           "align": "left"
          },
          "hovermode": "closest",
          "mapbox": {
           "style": "light"
          },
          "paper_bgcolor": "white",
          "plot_bgcolor": "#E5ECF6",
          "polar": {
           "angularaxis": {
            "gridcolor": "white",
            "linecolor": "white",
            "ticks": ""
           },
           "bgcolor": "#E5ECF6",
           "radialaxis": {
            "gridcolor": "white",
            "linecolor": "white",
            "ticks": ""
           }
          },
          "scene": {
           "xaxis": {
            "backgroundcolor": "#E5ECF6",
            "gridcolor": "white",
            "gridwidth": 2,
            "linecolor": "white",
            "showbackground": true,
            "ticks": "",
            "zerolinecolor": "white"
           },
           "yaxis": {
            "backgroundcolor": "#E5ECF6",
            "gridcolor": "white",
            "gridwidth": 2,
            "linecolor": "white",
            "showbackground": true,
            "ticks": "",
            "zerolinecolor": "white"
           },
           "zaxis": {
            "backgroundcolor": "#E5ECF6",
            "gridcolor": "white",
            "gridwidth": 2,
            "linecolor": "white",
            "showbackground": true,
            "ticks": "",
            "zerolinecolor": "white"
           }
          },
          "shapedefaults": {
           "line": {
            "color": "#2a3f5f"
           }
          },
          "ternary": {
           "aaxis": {
            "gridcolor": "white",
            "linecolor": "white",
            "ticks": ""
           },
           "baxis": {
            "gridcolor": "white",
            "linecolor": "white",
            "ticks": ""
           },
           "bgcolor": "#E5ECF6",
           "caxis": {
            "gridcolor": "white",
            "linecolor": "white",
            "ticks": ""
           }
          },
          "title": {
           "x": 0.05
          },
          "xaxis": {
           "automargin": true,
           "gridcolor": "white",
           "linecolor": "white",
           "ticks": "",
           "title": {
            "standoff": 15
           },
           "zerolinecolor": "white",
           "zerolinewidth": 2
          },
          "yaxis": {
           "automargin": true,
           "gridcolor": "white",
           "linecolor": "white",
           "ticks": "",
           "title": {
            "standoff": 15
           },
           "zerolinecolor": "white",
           "zerolinewidth": 2
          }
         }
        },
        "xaxis": {
         "anchor": "y",
         "autorange": true,
         "domain": [
          0,
          1
         ],
         "range": [
          "2023-03-09 12:00",
          "2023-03-30 12:00"
         ],
         "title": {
          "text": "midpoint"
         },
         "type": "date"
        },
        "yaxis": {
         "anchor": "x",
         "autorange": true,
         "domain": [
          0,
          1
         ],
         "range": [
          -0.009950248756218904,
          0.1890547263681592
         ],
         "title": {
          "text": "viable_eggs_per_day"
         },
         "type": "linear"
        }
       }
      },
      "image/png": "[encoded data removed]",
      "text/html": [
       "<div>                            <div id=\"8fbc05d6-8a06-494b-a374-ab940bbc84a4\" class=\"plotly-graph-div\" style=\"height:525px; width:100%;\"></div>            <script type=\"text/javascript\">                require([\"plotly\"], function(Plotly) {                    window.PLOTLYENV=window.PLOTLYENV || {};                                    if (document.getElementById(\"8fbc05d6-8a06-494b-a374-ab940bbc84a4\")) {                    Plotly.newPlot(                        \"8fbc05d6-8a06-494b-a374-ab940bbc84a4\",                        [{\"hovertemplate\":\"group=A<br>midpoint=%{x}<br>viable_eggs_per_day=%{y}<extra></extra>\",\"legendgroup\":\"A\",\"line\":{\"color\":\"#636efa\",\"dash\":\"solid\"},\"marker\":{\"symbol\":\"circle\"},\"mode\":\"lines\",\"name\":\"A\",\"orientation\":\"v\",\"showlegend\":true,\"x\":[\"2023-03-09T12:00:00\",\"2023-03-16T12:00:00\",\"2023-03-23T12:00:00\",\"2023-03-30T12:00:00\"],\"xaxis\":\"x\",\"y\":[0.0078125,0.036036036036036036,0.043859649122807015,0.1791044776119403],\"yaxis\":\"y\",\"type\":\"scatter\"},{\"hovertemplate\":\"group=B<br>midpoint=%{x}<br>viable_eggs_per_day=%{y}<extra></extra>\",\"legendgroup\":\"B\",\"line\":{\"color\":\"#EF553B\",\"dash\":\"solid\"},\"marker\":{\"symbol\":\"circle\"},\"mode\":\"lines\",\"name\":\"B\",\"orientation\":\"v\",\"showlegend\":true,\"x\":[\"2023-03-09T12:00:00\",\"2023-03-16T12:00:00\",\"2023-03-23T12:00:00\",\"2023-03-30T12:00:00\"],\"xaxis\":\"x\",\"y\":[0.0975609756097561,0.040983606557377046,0.05555555555555555,0.041666666666666664],\"yaxis\":\"y\",\"type\":\"scatter\"},{\"hovertemplate\":\"group=C<br>midpoint=%{x}<br>viable_eggs_per_day=%{y}<extra></extra>\",\"legendgroup\":\"C\",\"line\":{\"color\":\"#00cc96\",\"dash\":\"solid\"},\"marker\":{\"symbol\":\"circle\"},\"mode\":\"lines\",\"name\":\"C\",\"orientation\":\"v\",\"showlegend\":true,\"x\":[\"2023-03-09T12:00:00\",\"2023-03-16T12:00:00\",\"2023-03-23T12:00:00\",\"2023-03-30T12:00:00\"],\"xaxis\":\"x\",\"y\":[0.1111111111111111,0.12962962962962962,0.07142857142857142,0.0],\"yaxis\":\"y\",\"type\":\"scatter\"},{\"hovertemplate\":\"group=D<br>midpoint=%{x}<br>viable_eggs_per_day=%{y}<extra></extra>\",\"legendgroup\":\"D\",\"line\":{\"color\":\"#ab63fa\",\"dash\":\"solid\"},\"marker\":{\"symbol\":\"circle\"},\"mode\":\"lines\",\"name\":\"D\",\"orientation\":\"v\",\"showlegend\":true,\"x\":[\"2023-03-09T12:00:00\",\"2023-03-16T12:00:00\",\"2023-03-23T12:00:00\",\"2023-03-30T12:00:00\"],\"xaxis\":\"x\",\"y\":[0.009174311926605505,0.009174311926605505,0.09090909090909091,0.028169014084507043],\"yaxis\":\"y\",\"type\":\"scatter\"}],                        {\"template\":{\"data\":{\"histogram2dcontour\":[{\"type\":\"histogram2dcontour\",\"colorbar\":{\"outlinewidth\":0,\"ticks\":\"\"},\"colorscale\":[[0.0,\"#0d0887\"],[0.1111111111111111,\"#46039f\"],[0.2222222222222222,\"#7201a8\"],[0.3333333333333333,\"#9c179e\"],[0.4444444444444444,\"#bd3786\"],[0.5555555555555556,\"#d8576b\"],[0.6666666666666666,\"#ed7953\"],[0.7777777777777778,\"#fb9f3a\"],[0.8888888888888888,\"#fdca26\"],[1.0,\"#f0f921\"]]}],\"choropleth\":[{\"type\":\"choropleth\",\"colorbar\":{\"outlinewidth\":0,\"ticks\":\"\"}}],\"histogram2d\":[{\"type\":\"histogram2d\",\"colorbar\":{\"outlinewidth\":0,\"ticks\":\"\"},\"colorscale\":[[0.0,\"#0d0887\"],[0.1111111111111111,\"#46039f\"],[0.2222222222222222,\"#7201a8\"],[0.3333333333333333,\"#9c179e\"],[0.4444444444444444,\"#bd3786\"],[0.5555555555555556,\"#d8576b\"],[0.6666666666666666,\"#ed7953\"],[0.7777777777777778,\"#fb9f3a\"],[0.8888888888888888,\"#fdca26\"],[1.0,\"#f0f921\"]]}],\"heatmap\":[{\"type\":\"heatmap\",\"colorbar\":{\"outlinewidth\":0,\"ticks\":\"\"},\"colorscale\":[[0.0,\"#0d0887\"],[0.1111111111111111,\"#46039f\"],[0.2222222222222222,\"#7201a8\"],[0.3333333333333333,\"#9c179e\"],[0.4444444444444444,\"#bd3786\"],[0.5555555555555556,\"#d8576b\"],[0.6666666666666666,\"#ed7953\"],[0.7777777777777778,\"#fb9f3a\"],[0.8888888888888888,\"#fdca26\"],[1.0,\"#f0f921\"]]}],\"heatmapgl\":[{\"type\":\"heatmapgl\",\"colorbar\":{\"outlinewidth\":0,\"ticks\":\"\"},\"colorscale\":[[0.0,\"#0d0887\"],[0.1111111111111111,\"#46039f\"],[0.2222222222222222,\"#7201a8\"],[0.3333333333333333,\"#9c179e\"],[0.4444444444444444,\"#bd3786\"],[0.5555555555555556,\"#d8576b\"],[0.6666666666666666,\"#ed7953\"],[0.7777777777777778,\"#fb9f3a\"],[0.8888888888888888,\"#fdca26\"],[1.0,\"#f0f921\"]]}],\"contourcarpet\":[{\"type\":\"contourcarpet\",\"colorbar\":{\"outlinewidth\":0,\"ticks\":\"\"}}],\"contour\":[{\"type\":\"contour\",\"colorbar\":{\"outlinewidth\":0,\"ticks\":\"\"},\"colorscale\":[[0.0,\"#0d0887\"],[0.1111111111111111,\"#46039f\"],[0.2222222222222222,\"#7201a8\"],[0.3333333333333333,\"#9c179e\"],[0.4444444444444444,\"#bd3786\"],[0.5555555555555556,\"#d8576b\"],[0.6666666666666666,\"#ed7953\"],[0.7777777777777778,\"#fb9f3a\"],[0.8888888888888888,\"#fdca26\"],[1.0,\"#f0f921\"]]}],\"surface\":[{\"type\":\"surface\",\"colorbar\":{\"outlinewidth\":0,\"ticks\":\"\"},\"colorscale\":[[0.0,\"#0d0887\"],[0.1111111111111111,\"#46039f\"],[0.2222222222222222,\"#7201a8\"],[0.3333333333333333,\"#9c179e\"],[0.4444444444444444,\"#bd3786\"],[0.5555555555555556,\"#d8576b\"],[0.6666666666666666,\"#ed7953\"],[0.7777777777777778,\"#fb9f3a\"],[0.8888888888888888,\"#fdca26\"],[1.0,\"#f0f921\"]]}],\"mesh3d\":[{\"type\":\"mesh3d\",\"colorbar\":{\"outlinewidth\":0,\"ticks\":\"\"}}],\"scatter\":[{\"fillpattern\":{\"fillmode\":\"overlay\",\"size\":10,\"solidity\":0.2},\"type\":\"scatter\"}],\"parcoords\":[{\"type\":\"parcoords\",\"line\":{\"colorbar\":{\"outlinewidth\":0,\"ticks\":\"\"}}}],\"scatterpolargl\":[{\"type\":\"scatterpolargl\",\"marker\":{\"colorbar\":{\"outlinewidth\":0,\"ticks\":\"\"}}}],\"bar\":[{\"error_x\":{\"color\":\"#2a3f5f\"},\"error_y\":{\"color\":\"#2a3f5f\"},\"marker\":{\"line\":{\"color\":\"#E5ECF6\",\"width\":0.5},\"pattern\":{\"fillmode\":\"overlay\",\"size\":10,\"solidity\":0.2}},\"type\":\"bar\"}],\"scattergeo\":[{\"type\":\"scattergeo\",\"marker\":{\"colorbar\":{\"outlinewidth\":0,\"ticks\":\"\"}}}],\"scatterpolar\":[{\"type\":\"scatterpolar\",\"marker\":{\"colorbar\":{\"outlinewidth\":0,\"ticks\":\"\"}}}],\"histogram\":[{\"marker\":{\"pattern\":{\"fillmode\":\"overlay\",\"size\":10,\"solidity\":0.2}},\"type\":\"histogram\"}],\"scattergl\":[{\"type\":\"scattergl\",\"marker\":{\"colorbar\":{\"outlinewidth\":0,\"ticks\":\"\"}}}],\"scatter3d\":[{\"type\":\"scatter3d\",\"line\":{\"colorbar\":{\"outlinewidth\":0,\"ticks\":\"\"}},\"marker\":{\"colorbar\":{\"outlinewidth\":0,\"ticks\":\"\"}}}],\"scattermapbox\":[{\"type\":\"scattermapbox\",\"marker\":{\"colorbar\":{\"outlinewidth\":0,\"ticks\":\"\"}}}],\"scatterternary\":[{\"type\":\"scatterternary\",\"marker\":{\"colorbar\":{\"outlinewidth\":0,\"ticks\":\"\"}}}],\"scattercarpet\":[{\"type\":\"scattercarpet\",\"marker\":{\"colorbar\":{\"outlinewidth\":0,\"ticks\":\"\"}}}],\"carpet\":[{\"aaxis\":{\"endlinecolor\":\"#2a3f5f\",\"gridcolor\":\"white\",\"linecolor\":\"white\",\"minorgridcolor\":\"white\",\"startlinecolor\":\"#2a3f5f\"},\"baxis\":{\"endlinecolor\":\"#2a3f5f\",\"gridcolor\":\"white\",\"linecolor\":\"white\",\"minorgridcolor\":\"white\",\"startlinecolor\":\"#2a3f5f\"},\"type\":\"carpet\"}],\"table\":[{\"cells\":{\"fill\":{\"color\":\"#EBF0F8\"},\"line\":{\"color\":\"white\"}},\"header\":{\"fill\":{\"color\":\"#C8D4E3\"},\"line\":{\"color\":\"white\"}},\"type\":\"table\"}],\"barpolar\":[{\"marker\":{\"line\":{\"color\":\"#E5ECF6\",\"width\":0.5},\"pattern\":{\"fillmode\":\"overlay\",\"size\":10,\"solidity\":0.2}},\"type\":\"barpolar\"}],\"pie\":[{\"automargin\":true,\"type\":\"pie\"}]},\"layout\":{\"autotypenumbers\":\"strict\",\"colorway\":[\"#636efa\",\"#EF553B\",\"#00cc96\",\"#ab63fa\",\"#FFA15A\",\"#19d3f3\",\"#FF6692\",\"#B6E880\",\"#FF97FF\",\"#FECB52\"],\"font\":{\"color\":\"#2a3f5f\"},\"hovermode\":\"closest\",\"hoverlabel\":{\"align\":\"left\"},\"paper_bgcolor\":\"white\",\"plot_bgcolor\":\"#E5ECF6\",\"polar\":{\"bgcolor\":\"#E5ECF6\",\"angularaxis\":{\"gridcolor\":\"white\",\"linecolor\":\"white\",\"ticks\":\"\"},\"radialaxis\":{\"gridcolor\":\"white\",\"linecolor\":\"white\",\"ticks\":\"\"}},\"ternary\":{\"bgcolor\":\"#E5ECF6\",\"aaxis\":{\"gridcolor\":\"white\",\"linecolor\":\"white\",\"ticks\":\"\"},\"baxis\":{\"gridcolor\":\"white\",\"linecolor\":\"white\",\"ticks\":\"\"},\"caxis\":{\"gridcolor\":\"white\",\"linecolor\":\"white\",\"ticks\":\"\"}},\"coloraxis\":{\"colorbar\":{\"outlinewidth\":0,\"ticks\":\"\"}},\"colorscale\":{\"sequential\":[[0.0,\"#0d0887\"],[0.1111111111111111,\"#46039f\"],[0.2222222222222222,\"#7201a8\"],[0.3333333333333333,\"#9c179e\"],[0.4444444444444444,\"#bd3786\"],[0.5555555555555556,\"#d8576b\"],[0.6666666666666666,\"#ed7953\"],[0.7777777777777778,\"#fb9f3a\"],[0.8888888888888888,\"#fdca26\"],[1.0,\"#f0f921\"]],\"sequentialminus\":[[0.0,\"#0d0887\"],[0.1111111111111111,\"#46039f\"],[0.2222222222222222,\"#7201a8\"],[0.3333333333333333,\"#9c179e\"],[0.4444444444444444,\"#bd3786\"],[0.5555555555555556,\"#d8576b\"],[0.6666666666666666,\"#ed7953\"],[0.7777777777777778,\"#fb9f3a\"],[0.8888888888888888,\"#fdca26\"],[1.0,\"#f0f921\"]],\"diverging\":[[0,\"#8e0152\"],[0.1,\"#c51b7d\"],[0.2,\"#de77ae\"],[0.3,\"#f1b6da\"],[0.4,\"#fde0ef\"],[0.5,\"#f7f7f7\"],[0.6,\"#e6f5d0\"],[0.7,\"#b8e186\"],[0.8,\"#7fbc41\"],[0.9,\"#4d9221\"],[1,\"#276419\"]]},\"xaxis\":{\"gridcolor\":\"white\",\"linecolor\":\"white\",\"ticks\":\"\",\"title\":{\"standoff\":15},\"zerolinecolor\":\"white\",\"automargin\":true,\"zerolinewidth\":2},\"yaxis\":{\"gridcolor\":\"white\",\"linecolor\":\"white\",\"ticks\":\"\",\"title\":{\"standoff\":15},\"zerolinecolor\":\"white\",\"automargin\":true,\"zerolinewidth\":2},\"scene\":{\"xaxis\":{\"backgroundcolor\":\"#E5ECF6\",\"gridcolor\":\"white\",\"linecolor\":\"white\",\"showbackground\":true,\"ticks\":\"\",\"zerolinecolor\":\"white\",\"gridwidth\":2},\"yaxis\":{\"backgroundcolor\":\"#E5ECF6\",\"gridcolor\":\"white\",\"linecolor\":\"white\",\"showbackground\":true,\"ticks\":\"\",\"zerolinecolor\":\"white\",\"gridwidth\":2},\"zaxis\":{\"backgroundcolor\":\"#E5ECF6\",\"gridcolor\":\"white\",\"linecolor\":\"white\",\"showbackground\":true,\"ticks\":\"\",\"zerolinecolor\":\"white\",\"gridwidth\":2}},\"shapedefaults\":{\"line\":{\"color\":\"#2a3f5f\"}},\"annotationdefaults\":{\"arrowcolor\":\"#2a3f5f\",\"arrowhead\":0,\"arrowwidth\":1},\"geo\":{\"bgcolor\":\"white\",\"landcolor\":\"#E5ECF6\",\"subunitcolor\":\"white\",\"showland\":true,\"showlakes\":true,\"lakecolor\":\"white\"},\"title\":{\"x\":0.05},\"mapbox\":{\"style\":\"light\"}}},\"xaxis\":{\"anchor\":\"y\",\"domain\":[0.0,1.0],\"title\":{\"text\":\"midpoint\"}},\"yaxis\":{\"anchor\":\"x\",\"domain\":[0.0,1.0],\"title\":{\"text\":\"viable_eggs_per_day\"}},\"legend\":{\"title\":{\"text\":\"group\"},\"tracegroupgap\":0},\"margin\":{\"t\":60}},                        {\"responsive\": true}                    ).then(function(){\n",
       "                            \n",
       "var gd = document.getElementById('8fbc05d6-8a06-494b-a374-ab940bbc84a4');\n",
       "var x = new MutationObserver(function (mutations, observer) {{\n",
       "        var display = window.getComputedStyle(gd).display;\n",
       "        if (!display || display === 'none') {{\n",
       "            console.log([gd, 'removed!']);\n",
       "            Plotly.purge(gd);\n",
       "            observer.disconnect();\n",
       "        }}\n",
       "}});\n",
       "\n",
       "// Listen for the removal of the full notebook cells\n",
       "var notebookContainer = gd.closest('#notebook-container');\n",
       "if (notebookContainer) {{\n",
       "    x.observe(notebookContainer, {childList: true});\n",
       "}}\n",
       "\n",
       "// Listen for the clearing of the current output cell\n",
       "var outputEl = gd.closest('.output');\n",
       "if (outputEl) {{\n",
       "    x.observe(outputEl, {childList: true});\n",
       "}}\n",
       "\n",
       "                        })                };                });            </script>        </div>"
      ]
     },
     "metadata": {},
     "output_type": "display_data"
    }
   ],
   "source": [
    "fig = px.line(df_larvae, x=\"midpoint\", y=\"viable_eggs_per_day\", color='group')\n",
    "fig.show()"
   ]
  },
  {
   "cell_type": "code",
   "execution_count": 118,
   "id": "302a1ba0-3525-44ca-b846-0f94d061c1d6",
   "metadata": {},
   "outputs": [
    {
     "name": "stdout",
     "output_type": "stream",
     "text": [
      "Mean number of viable eggs per female per day\n"
     ]
    },
    {
     "data": {
      "text/plain": [
       "group\n",
       "A    0.066703\n",
       "B    0.058942\n",
       "C    0.078042\n",
       "D    0.034357\n",
       "Name: viable_eggs_per_day, dtype: float64"
      ]
     },
     "execution_count": 118,
     "metadata": {},
     "output_type": "execute_result"
    }
   ],
   "source": [
    "print('Mean number of viable eggs per female per day')\n",
    "df_larvae.groupby('group')['viable_eggs_per_day'].mean()"
   ]
  }
 ],
 "metadata": {
  "kernelspec": {
   "display_name": "Python 3 (ipykernel)",
   "language": "python",
   "name": "python3"
  },
  "language_info": {
   "codemirror_mode": {
    "name": "ipython",
    "version": 3
   },
   "file_extension": ".py",
   "mimetype": "text/x-python",
   "name": "python",
   "nbconvert_exporter": "python",
   "pygments_lexer": "ipython3",
   "version": "3.9.5"
  }
 },
 "nbformat": 4,
 "nbformat_minor": 5
}
