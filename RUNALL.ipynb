{
 "cells": [
  {
   "cell_type": "code",
   "execution_count": 1,
   "id": "69e251ba-5441-4ebe-b4bc-6b76f5517e71",
   "metadata": {},
   "outputs": [],
   "source": [
    "import papermill as pm"
   ]
  },
  {
   "cell_type": "code",
   "execution_count": 2,
   "id": "1471fa22-7261-4173-a4d7-375f5682b40b",
   "metadata": {},
   "outputs": [
    {
     "data": {
      "application/vnd.jupyter.widget-view+json": {
       "model_id": "3136cb1b7bac48a98d9648ebcd2e2135",
       "version_major": 2,
       "version_minor": 0
      },
      "text/plain": [
       "Executing:   0%|          | 0/8 [00:00<?, ?cell/s]"
      ]
     },
     "metadata": {},
     "output_type": "display_data"
    }
   ],
   "source": [
    "result = pm.execute_notebook('read_data.ipynb',None)"
   ]
  },
  {
   "cell_type": "code",
   "execution_count": 3,
   "id": "61818a2c-2b4b-48a5-9cca-ef0443703cea",
   "metadata": {},
   "outputs": [
    {
     "data": {
      "application/vnd.jupyter.widget-view+json": {
       "model_id": "8ec89c3845cc4acfb1aa970e7accc358",
       "version_major": 2,
       "version_minor": 0
      },
      "text/plain": [
       "Executing:   0%|          | 0/12 [00:00<?, ?cell/s]"
      ]
     },
     "metadata": {},
     "output_type": "display_data"
    }
   ],
   "source": [
    "result = pm.execute_notebook('plot_flights.ipynb',None)"
   ]
  },
  {
   "cell_type": "code",
   "execution_count": 4,
   "id": "36e72863-e642-4253-bcd6-6a07a67ebfc3",
   "metadata": {},
   "outputs": [
    {
     "data": {
      "application/vnd.jupyter.widget-view+json": {
       "model_id": "06a71e9c8b2b4e3c91a69412f63d4740",
       "version_major": 2,
       "version_minor": 0
      },
      "text/plain": [
       "Executing:   0%|          | 0/6 [00:00<?, ?cell/s]"
      ]
     },
     "metadata": {},
     "output_type": "display_data"
    }
   ],
   "source": [
    "result = pm.execute_notebook('survival_curves.ipynb',None)"
   ]
  },
  {
   "cell_type": "code",
   "execution_count": 5,
   "id": "caf5f492-bf94-47b2-99ea-e57e011699c4",
   "metadata": {},
   "outputs": [],
   "source": [
    "# result = pm.execute_notebook('food_consumption.ipynb',None)"
   ]
  },
  {
   "cell_type": "code",
   "execution_count": 6,
   "id": "97f9d283-4934-456e-9f7c-183deb18bd37",
   "metadata": {},
   "outputs": [
    {
     "data": {
      "application/vnd.jupyter.widget-view+json": {
       "model_id": "80c64ea56b3b48b79d02570491552d47",
       "version_major": 2,
       "version_minor": 0
      },
      "text/plain": [
       "Executing:   0%|          | 0/7 [00:00<?, ?cell/s]"
      ]
     },
     "metadata": {},
     "output_type": "display_data"
    }
   ],
   "source": [
    "result = pm.execute_notebook('plot_mass.ipynb',None)"
   ]
  }
 ],
 "metadata": {
  "kernelspec": {
   "display_name": "Python 3 (ipykernel)",
   "language": "python",
   "name": "python3"
  },
  "language_info": {
   "codemirror_mode": {
    "name": "ipython",
    "version": 3
   },
   "file_extension": ".py",
   "mimetype": "text/x-python",
   "name": "python",
   "nbconvert_exporter": "python",
   "pygments_lexer": "ipython3",
   "version": "3.9.5"
  }
 },
 "nbformat": 4,
 "nbformat_minor": 5
}
