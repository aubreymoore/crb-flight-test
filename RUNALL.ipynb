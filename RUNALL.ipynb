{
 "cells": [
  {
   "cell_type": "code",
   "execution_count": 35,
   "id": "69e251ba-5441-4ebe-b4bc-6b76f5517e71",
   "metadata": {},
   "outputs": [],
   "source": [
    "import papermill as pm"
   ]
  },
  {
   "cell_type": "code",
   "execution_count": 36,
   "id": "1471fa22-7261-4173-a4d7-375f5682b40b",
   "metadata": {},
   "outputs": [
    {
     "data": {
      "application/vnd.jupyter.widget-view+json": {
       "model_id": "81abf03d9a2b477bb23f29061646a5d7",
       "version_major": 2,
       "version_minor": 0
      },
      "text/plain": [
       "Executing:   0%|          | 0/17 [00:00<?, ?cell/s]"
      ]
     },
     "metadata": {},
     "output_type": "display_data"
    }
   ],
   "source": [
    "result = pm.execute_notebook('read_data.ipynb',None)"
   ]
  },
  {
   "cell_type": "code",
   "execution_count": 37,
   "id": "36e72863-e642-4253-bcd6-6a07a67ebfc3",
   "metadata": {},
   "outputs": [
    {
     "data": {
      "application/vnd.jupyter.widget-view+json": {
       "model_id": "83b3fed9f6fe40a79bd07707d57761de",
       "version_major": 2,
       "version_minor": 0
      },
      "text/plain": [
       "Executing:   0%|          | 0/6 [00:00<?, ?cell/s]"
      ]
     },
     "metadata": {},
     "output_type": "display_data"
    }
   ],
   "source": [
    "result = pm.execute_notebook('survival_curves.ipynb',None)"
   ]
  },
  {
   "cell_type": "code",
   "execution_count": 38,
   "id": "caf5f492-bf94-47b2-99ea-e57e011699c4",
   "metadata": {},
   "outputs": [],
   "source": [
    "# result = pm.execute_notebook('food_consumption.ipynb',None)"
   ]
  },
  {
   "cell_type": "code",
   "execution_count": 39,
   "id": "97f9d283-4934-456e-9f7c-183deb18bd37",
   "metadata": {},
   "outputs": [
    {
     "data": {
      "application/vnd.jupyter.widget-view+json": {
       "model_id": "aadc85f840d1430abc1c9340e8524241",
       "version_major": 2,
       "version_minor": 0
      },
      "text/plain": [
       "Executing:   0%|          | 0/6 [00:00<?, ?cell/s]"
      ]
     },
     "metadata": {},
     "output_type": "display_data"
    }
   ],
   "source": [
    "result = pm.execute_notebook('plot_mass.ipynb',None)"
   ]
  }
 ],
 "metadata": {
  "kernelspec": {
   "display_name": "Python 3 (ipykernel)",
   "language": "python",
   "name": "python3"
  },
  "language_info": {
   "codemirror_mode": {
    "name": "ipython",
    "version": 3
   },
   "file_extension": ".py",
   "mimetype": "text/x-python",
   "name": "python",
   "nbconvert_exporter": "python",
   "pygments_lexer": "ipython3",
   "version": "3.9.5"
  }
 },
 "nbformat": 4,
 "nbformat_minor": 5
}
